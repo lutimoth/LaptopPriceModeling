{
 "cells": [
  {
   "cell_type": "markdown",
   "id": "10988c3b",
   "metadata": {},
   "source": [
    "# Introduction\n",
    "\n",
    "This notebook's purpose will be to load, explore, and understand (data wrangling) the laptop dataset acquired from the following location: https://www.kaggle.com/datasets/kuchhbhi/latest-laptop-price-list? \n",
    "\n",
    "The ultimate goal of the project is to create a pricing model to predict the value of a laptop based on its features. In this step, we make sure we clean, organize, and make the dataset friendly to analysis.\n",
    "\n",
    "While there exists a cleaned dataset in the download, the goal is to explore this data on our own and we will be cleaning the dataset that has not been cleaned by someone else."
   ]
  }
 ],
 "metadata": {
  "kernelspec": {
   "display_name": "Python 3 (ipykernel)",
   "language": "python",
   "name": "python3"
  },
  "language_info": {
   "codemirror_mode": {
    "name": "ipython",
    "version": 3
   },
   "file_extension": ".py",
   "mimetype": "text/x-python",
   "name": "python",
   "nbconvert_exporter": "python",
   "pygments_lexer": "ipython3",
   "version": "3.9.7"
  }
 },
 "nbformat": 4,
 "nbformat_minor": 5
}
