{
 "cells": [
  {
   "cell_type": "markdown",
   "id": "dbe310ac",
   "metadata": {},
   "source": [
    "## Laptop Data Wrangling\n",
    "\n",
    "This notebook's purpose will be to load, explore, and understand  the laptop dataset acquired from the following location: https://www.kaggle.com/datasets/kuchhbhi/latest-laptop-price-list? According to the data published, the data was scrapped from flipkart.com.\n",
    "\n",
    "The ultimate goal of the project is to create a pricing model to predict the value of a laptop based on its features. In this step, we make sure we clean, organize, and make the dataset friendly to analysis. We want to look at some of the features which greatly impact laptop prices and how certain features impact laptop pricing. We are interested in using this data to help Lenovo create a model which will predict pricing accurately in an increasingly complex laptop market. \n",
    "\n",
    "While there exists a cleaned dataset in the download, the goal is to explore this data on our own and we will be cleaning the dataset that has not been cleaned by someone else. This notebook will go through the file and describe it as we go along."
   ]
  },
  {
   "cell_type": "markdown",
   "id": "199f7e26",
   "metadata": {},
   "source": [
    "## Importing necessary packages\n",
    "\n",
    "We will import the necessary packages to create dataframes, perform initial visualizations, and other utilities that we need."
   ]
  },
  {
   "cell_type": "code",
   "execution_count": 2,
   "id": "5190c917",
   "metadata": {},
   "outputs": [],
   "source": [
    "import pandas as pd\n",
    "import matplotlib.pyplot as plt\n",
    "import seaborn as sns\n",
    "import os"
   ]
  },
  {
   "cell_type": "markdown",
   "id": "6f0ac808",
   "metadata": {},
   "source": [
    "## Objectives\n",
    "\n",
    "We wish to accomplish the following goals with the data:\n",
    "1. Are there any errors, outliers, and other issues with the data?\n",
    "2. What are some initial trends that might be interesting to pursue? \n",
    "3. What are some potentially useful features?"
   ]
  },
  {
   "cell_type": "code",
   "execution_count": null,
   "id": "8e87b34a",
   "metadata": {},
   "outputs": [],
   "source": []
  }
 ],
 "metadata": {
  "kernelspec": {
   "display_name": "Python 3 (ipykernel)",
   "language": "python",
   "name": "python3"
  },
  "language_info": {
   "codemirror_mode": {
    "name": "ipython",
    "version": 3
   },
   "file_extension": ".py",
   "mimetype": "text/x-python",
   "name": "python",
   "nbconvert_exporter": "python",
   "pygments_lexer": "ipython3",
   "version": "3.9.7"
  }
 },
 "nbformat": 4,
 "nbformat_minor": 5
}
