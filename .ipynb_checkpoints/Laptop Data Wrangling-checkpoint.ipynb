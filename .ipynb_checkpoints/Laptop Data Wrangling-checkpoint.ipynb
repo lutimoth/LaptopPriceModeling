{
 "cells": [
  {
   "cell_type": "markdown",
   "id": "310f3c5b",
   "metadata": {},
   "source": [
    "## Laptop Data Wrangling\n",
    "\n",
    "This notebook's purpose will be to load, explore, and understand  the laptop dataset acquired from the following location: https://www.kaggle.com/datasets/kuchhbhi/latest-laptop-price-list? According to the data published, the data was scrapped from flipkart.com.\n",
    "\n",
    "The ultimate goal of the project is to create a pricing model to predict the value of a laptop based on its features. In this step, we make sure we clean, organize, and make the dataset friendly to analysis. We want to look at some of the features which greatly impact laptop prices and how certain features impact laptop pricing. We are interested in using this data to help Lenovo create a model which will predict pricing accurately in an increasingly complex laptop market. \n",
    "\n",
    "Part of the dataset comes cleaned but we will still verify its usability and validity"
   ]
  },
  {
   "cell_type": "markdown",
   "id": "c85ee403",
   "metadata": {},
   "source": [
    "## Importing necessary packages\n",
    "\n",
    "We will import the necessary packages to create dataframes, perform initial visualizations, and other utilities that we need."
   ]
  },
  {
   "cell_type": "code",
   "execution_count": 134,
   "id": "8a354dbf",
   "metadata": {},
   "outputs": [],
   "source": [
    "import pandas as pd\n",
    "import matplotlib.pyplot as plt\n",
    "from matplotlib import ticker\n",
    "import seaborn as sns\n",
    "import os\n",
    "import numpy as np\n",
    "from collections import Counter"
   ]
  },
  {
   "cell_type": "markdown",
   "id": "35f55a86",
   "metadata": {},
   "source": [
    "## Objectives\n",
    "\n",
    "We wish to accomplish the following goals with the data:\n",
    "1. Are there any errors, outliers, and other issues with the data?\n",
    "2. What are some initial trends that might be interesting to pursue? \n",
    "3. What are some potentially useful features?"
   ]
  },
  {
   "cell_type": "markdown",
   "id": "c632b3ab",
   "metadata": {},
   "source": [
    "## Load the Laptop Data"
   ]
  },
  {
   "cell_type": "code",
   "execution_count": 2,
   "id": "e57e3d0c",
   "metadata": {},
   "outputs": [],
   "source": [
    "# Loading the data into a dataframe\n",
    "laptop_data = pd.read_csv('./dataset/Cleaned_Laptop_data.csv')"
   ]
  },
  {
   "cell_type": "code",
   "execution_count": 3,
   "id": "82d0ed1b",
   "metadata": {},
   "outputs": [
    {
     "name": "stdout",
     "output_type": "stream",
     "text": [
      "<class 'pandas.core.frame.DataFrame'>\n",
      "RangeIndex: 896 entries, 0 to 895\n",
      "Data columns (total 23 columns):\n",
      " #   Column           Non-Null Count  Dtype  \n",
      "---  ------           --------------  -----  \n",
      " 0   brand            896 non-null    object \n",
      " 1   model            896 non-null    object \n",
      " 2   processor_brand  896 non-null    object \n",
      " 3   processor_name   896 non-null    object \n",
      " 4   processor_gnrtn  896 non-null    object \n",
      " 5   ram_gb           896 non-null    object \n",
      " 6   ram_type         896 non-null    object \n",
      " 7   ssd              896 non-null    object \n",
      " 8   hdd              896 non-null    object \n",
      " 9   os               896 non-null    object \n",
      " 10  os_bit           896 non-null    object \n",
      " 11  graphic_card_gb  896 non-null    int64  \n",
      " 12  weight           896 non-null    object \n",
      " 13  display_size     896 non-null    object \n",
      " 14  warranty         896 non-null    int64  \n",
      " 15  Touchscreen      896 non-null    object \n",
      " 16  msoffice         896 non-null    object \n",
      " 17  latest_price     896 non-null    int64  \n",
      " 18  old_price        896 non-null    int64  \n",
      " 19  discount         896 non-null    int64  \n",
      " 20  star_rating      896 non-null    float64\n",
      " 21  ratings          896 non-null    int64  \n",
      " 22  reviews          896 non-null    int64  \n",
      "dtypes: float64(1), int64(7), object(15)\n",
      "memory usage: 161.1+ KB\n"
     ]
    }
   ],
   "source": [
    "# Loking at info to see a summary of the data\n",
    "laptop_data.info()"
   ]
  },
  {
   "cell_type": "markdown",
   "id": "f2e6f4de",
   "metadata": {},
   "source": [
    "We see there are approximately 896 row of data. While more laptops would be useful this would be a good place to start while we do our initial exploration into the data. To get a better visualization, we'll look at the head of the data frame. The most important information here would be `latest_price`. We notice that the price is given in **INR** which means at some point we will want to convert this to **USD**. We see some columns that could be useful such as `hdd`, `ssd`. Some other features like `display_size` seem to be missing on a lot of models so that may not be as useful."
   ]
  },
  {
   "cell_type": "code",
   "execution_count": 4,
   "id": "9b31e27d",
   "metadata": {
    "scrolled": true
   },
   "outputs": [
    {
     "data": {
      "text/plain": [
       "Index(['brand', 'model', 'processor_brand', 'processor_name',\n",
       "       'processor_gnrtn', 'ram_gb', 'ram_type', 'ssd', 'hdd', 'os', 'os_bit',\n",
       "       'graphic_card_gb', 'weight', 'display_size', 'warranty', 'Touchscreen',\n",
       "       'msoffice', 'latest_price', 'old_price', 'discount', 'star_rating',\n",
       "       'ratings', 'reviews'],\n",
       "      dtype='object')"
      ]
     },
     "execution_count": 4,
     "metadata": {},
     "output_type": "execute_result"
    }
   ],
   "source": [
    "laptop_data.columns"
   ]
  },
  {
   "cell_type": "code",
   "execution_count": 5,
   "id": "c40c1cf0",
   "metadata": {},
   "outputs": [
    {
     "data": {
      "text/html": [
       "<div>\n",
       "<style scoped>\n",
       "    .dataframe tbody tr th:only-of-type {\n",
       "        vertical-align: middle;\n",
       "    }\n",
       "\n",
       "    .dataframe tbody tr th {\n",
       "        vertical-align: top;\n",
       "    }\n",
       "\n",
       "    .dataframe thead th {\n",
       "        text-align: right;\n",
       "    }\n",
       "</style>\n",
       "<table border=\"1\" class=\"dataframe\">\n",
       "  <thead>\n",
       "    <tr style=\"text-align: right;\">\n",
       "      <th></th>\n",
       "      <th>brand</th>\n",
       "      <th>model</th>\n",
       "      <th>processor_brand</th>\n",
       "      <th>processor_name</th>\n",
       "      <th>processor_gnrtn</th>\n",
       "      <th>ram_gb</th>\n",
       "      <th>ram_type</th>\n",
       "      <th>ssd</th>\n",
       "      <th>hdd</th>\n",
       "      <th>os</th>\n",
       "      <th>...</th>\n",
       "      <th>display_size</th>\n",
       "      <th>warranty</th>\n",
       "      <th>Touchscreen</th>\n",
       "      <th>msoffice</th>\n",
       "      <th>latest_price</th>\n",
       "      <th>old_price</th>\n",
       "      <th>discount</th>\n",
       "      <th>star_rating</th>\n",
       "      <th>ratings</th>\n",
       "      <th>reviews</th>\n",
       "    </tr>\n",
       "  </thead>\n",
       "  <tbody>\n",
       "    <tr>\n",
       "      <th>0</th>\n",
       "      <td>Lenovo</td>\n",
       "      <td>A6-9225</td>\n",
       "      <td>AMD</td>\n",
       "      <td>A6-9225 Processor</td>\n",
       "      <td>10th</td>\n",
       "      <td>4 GB GB</td>\n",
       "      <td>DDR4</td>\n",
       "      <td>0 GB</td>\n",
       "      <td>1024 GB</td>\n",
       "      <td>Windows</td>\n",
       "      <td>...</td>\n",
       "      <td>Missing</td>\n",
       "      <td>0</td>\n",
       "      <td>No</td>\n",
       "      <td>No</td>\n",
       "      <td>24990</td>\n",
       "      <td>32790</td>\n",
       "      <td>23</td>\n",
       "      <td>3.7</td>\n",
       "      <td>63</td>\n",
       "      <td>12</td>\n",
       "    </tr>\n",
       "    <tr>\n",
       "      <th>1</th>\n",
       "      <td>Lenovo</td>\n",
       "      <td>Ideapad</td>\n",
       "      <td>AMD</td>\n",
       "      <td>APU Dual</td>\n",
       "      <td>10th</td>\n",
       "      <td>4 GB GB</td>\n",
       "      <td>DDR4</td>\n",
       "      <td>0 GB</td>\n",
       "      <td>512 GB</td>\n",
       "      <td>Windows</td>\n",
       "      <td>...</td>\n",
       "      <td>Missing</td>\n",
       "      <td>0</td>\n",
       "      <td>No</td>\n",
       "      <td>No</td>\n",
       "      <td>19590</td>\n",
       "      <td>21325</td>\n",
       "      <td>8</td>\n",
       "      <td>3.6</td>\n",
       "      <td>1894</td>\n",
       "      <td>256</td>\n",
       "    </tr>\n",
       "    <tr>\n",
       "      <th>2</th>\n",
       "      <td>Avita</td>\n",
       "      <td>PURA</td>\n",
       "      <td>AMD</td>\n",
       "      <td>APU Dual</td>\n",
       "      <td>10th</td>\n",
       "      <td>4 GB GB</td>\n",
       "      <td>DDR4</td>\n",
       "      <td>128 GB</td>\n",
       "      <td>0 GB</td>\n",
       "      <td>Windows</td>\n",
       "      <td>...</td>\n",
       "      <td>Missing</td>\n",
       "      <td>0</td>\n",
       "      <td>No</td>\n",
       "      <td>No</td>\n",
       "      <td>19990</td>\n",
       "      <td>27990</td>\n",
       "      <td>28</td>\n",
       "      <td>3.7</td>\n",
       "      <td>1153</td>\n",
       "      <td>159</td>\n",
       "    </tr>\n",
       "    <tr>\n",
       "      <th>3</th>\n",
       "      <td>Avita</td>\n",
       "      <td>PURA</td>\n",
       "      <td>AMD</td>\n",
       "      <td>APU Dual</td>\n",
       "      <td>10th</td>\n",
       "      <td>4 GB GB</td>\n",
       "      <td>DDR4</td>\n",
       "      <td>128 GB</td>\n",
       "      <td>0 GB</td>\n",
       "      <td>Windows</td>\n",
       "      <td>...</td>\n",
       "      <td>Missing</td>\n",
       "      <td>0</td>\n",
       "      <td>No</td>\n",
       "      <td>No</td>\n",
       "      <td>21490</td>\n",
       "      <td>27990</td>\n",
       "      <td>23</td>\n",
       "      <td>3.7</td>\n",
       "      <td>1153</td>\n",
       "      <td>159</td>\n",
       "    </tr>\n",
       "    <tr>\n",
       "      <th>4</th>\n",
       "      <td>Avita</td>\n",
       "      <td>PURA</td>\n",
       "      <td>AMD</td>\n",
       "      <td>APU Dual</td>\n",
       "      <td>10th</td>\n",
       "      <td>4 GB GB</td>\n",
       "      <td>DDR4</td>\n",
       "      <td>256 GB</td>\n",
       "      <td>0 GB</td>\n",
       "      <td>Windows</td>\n",
       "      <td>...</td>\n",
       "      <td>Missing</td>\n",
       "      <td>0</td>\n",
       "      <td>No</td>\n",
       "      <td>No</td>\n",
       "      <td>24990</td>\n",
       "      <td>33490</td>\n",
       "      <td>25</td>\n",
       "      <td>3.7</td>\n",
       "      <td>1657</td>\n",
       "      <td>234</td>\n",
       "    </tr>\n",
       "  </tbody>\n",
       "</table>\n",
       "<p>5 rows × 23 columns</p>\n",
       "</div>"
      ],
      "text/plain": [
       "    brand    model processor_brand     processor_name processor_gnrtn  \\\n",
       "0  Lenovo  A6-9225             AMD  A6-9225 Processor            10th   \n",
       "1  Lenovo  Ideapad             AMD           APU Dual            10th   \n",
       "2   Avita     PURA             AMD           APU Dual            10th   \n",
       "3   Avita     PURA             AMD           APU Dual            10th   \n",
       "4   Avita     PURA             AMD           APU Dual            10th   \n",
       "\n",
       "    ram_gb ram_type     ssd      hdd       os  ... display_size  warranty  \\\n",
       "0  4 GB GB     DDR4    0 GB  1024 GB  Windows  ...      Missing         0   \n",
       "1  4 GB GB     DDR4    0 GB   512 GB  Windows  ...      Missing         0   \n",
       "2  4 GB GB     DDR4  128 GB     0 GB  Windows  ...      Missing         0   \n",
       "3  4 GB GB     DDR4  128 GB     0 GB  Windows  ...      Missing         0   \n",
       "4  4 GB GB     DDR4  256 GB     0 GB  Windows  ...      Missing         0   \n",
       "\n",
       "  Touchscreen msoffice  latest_price old_price discount  star_rating  ratings  \\\n",
       "0          No       No         24990     32790       23          3.7       63   \n",
       "1          No       No         19590     21325        8          3.6     1894   \n",
       "2          No       No         19990     27990       28          3.7     1153   \n",
       "3          No       No         21490     27990       23          3.7     1153   \n",
       "4          No       No         24990     33490       25          3.7     1657   \n",
       "\n",
       "   reviews  \n",
       "0       12  \n",
       "1      256  \n",
       "2      159  \n",
       "3      159  \n",
       "4      234  \n",
       "\n",
       "[5 rows x 23 columns]"
      ]
     },
     "execution_count": 5,
     "metadata": {},
     "output_type": "execute_result"
    }
   ],
   "source": [
    "laptop_data.head()"
   ]
  },
  {
   "cell_type": "markdown",
   "id": "38d3c13a",
   "metadata": {},
   "source": [
    "## Initial Insights and Missing Data\n",
    "\n",
    "Lets start digging into our data and see what initial insights we can glean. While we notice that Lenovo is in this dataset, we are looking at our pricing model for new laptops moving forward so we can comfortably leave Lenovo in the data set for now.\n",
    "\n",
    "We will do the following steps:\n",
    "1. Look to see if there is any data formatting that may need to be adjusted such as converting certain measurements from strings to integers and making sure we are in the right currency.\n",
    "2. Explore some trends and decide which features may be actually useful. We will attempt to drop the features that are not useful.\n",
    "3. Look at some initial trends compared to price that might be useful."
   ]
  },
  {
   "cell_type": "markdown",
   "id": "8c6a509c",
   "metadata": {},
   "source": [
    "## Tidying up our data\n",
    "\n",
    "We want to make sure that the data is formatted as best we can in a way that makes sense for the information. First, we want to make sure we are not doing more work than we need to. We will look at whether there are features with missing information to determine which features we will begin to focus on. \n",
    "\n",
    "\n",
    "## Missing Data\n",
    "\n",
    "Lets look at whether there is any missing data."
   ]
  },
  {
   "cell_type": "code",
   "execution_count": 6,
   "id": "c0d20eaf",
   "metadata": {
    "scrolled": true
   },
   "outputs": [
    {
     "data": {
      "text/html": [
       "<div>\n",
       "<style scoped>\n",
       "    .dataframe tbody tr th:only-of-type {\n",
       "        vertical-align: middle;\n",
       "    }\n",
       "\n",
       "    .dataframe tbody tr th {\n",
       "        vertical-align: top;\n",
       "    }\n",
       "\n",
       "    .dataframe thead th {\n",
       "        text-align: right;\n",
       "    }\n",
       "</style>\n",
       "<table border=\"1\" class=\"dataframe\">\n",
       "  <thead>\n",
       "    <tr style=\"text-align: right;\">\n",
       "      <th></th>\n",
       "      <th>count</th>\n",
       "      <th>%</th>\n",
       "    </tr>\n",
       "  </thead>\n",
       "  <tbody>\n",
       "    <tr>\n",
       "      <th>brand</th>\n",
       "      <td>0</td>\n",
       "      <td>0.0</td>\n",
       "    </tr>\n",
       "    <tr>\n",
       "      <th>weight</th>\n",
       "      <td>0</td>\n",
       "      <td>0.0</td>\n",
       "    </tr>\n",
       "    <tr>\n",
       "      <th>ratings</th>\n",
       "      <td>0</td>\n",
       "      <td>0.0</td>\n",
       "    </tr>\n",
       "    <tr>\n",
       "      <th>star_rating</th>\n",
       "      <td>0</td>\n",
       "      <td>0.0</td>\n",
       "    </tr>\n",
       "    <tr>\n",
       "      <th>discount</th>\n",
       "      <td>0</td>\n",
       "      <td>0.0</td>\n",
       "    </tr>\n",
       "    <tr>\n",
       "      <th>old_price</th>\n",
       "      <td>0</td>\n",
       "      <td>0.0</td>\n",
       "    </tr>\n",
       "    <tr>\n",
       "      <th>latest_price</th>\n",
       "      <td>0</td>\n",
       "      <td>0.0</td>\n",
       "    </tr>\n",
       "    <tr>\n",
       "      <th>msoffice</th>\n",
       "      <td>0</td>\n",
       "      <td>0.0</td>\n",
       "    </tr>\n",
       "    <tr>\n",
       "      <th>Touchscreen</th>\n",
       "      <td>0</td>\n",
       "      <td>0.0</td>\n",
       "    </tr>\n",
       "    <tr>\n",
       "      <th>warranty</th>\n",
       "      <td>0</td>\n",
       "      <td>0.0</td>\n",
       "    </tr>\n",
       "    <tr>\n",
       "      <th>display_size</th>\n",
       "      <td>0</td>\n",
       "      <td>0.0</td>\n",
       "    </tr>\n",
       "    <tr>\n",
       "      <th>graphic_card_gb</th>\n",
       "      <td>0</td>\n",
       "      <td>0.0</td>\n",
       "    </tr>\n",
       "    <tr>\n",
       "      <th>model</th>\n",
       "      <td>0</td>\n",
       "      <td>0.0</td>\n",
       "    </tr>\n",
       "    <tr>\n",
       "      <th>os_bit</th>\n",
       "      <td>0</td>\n",
       "      <td>0.0</td>\n",
       "    </tr>\n",
       "    <tr>\n",
       "      <th>os</th>\n",
       "      <td>0</td>\n",
       "      <td>0.0</td>\n",
       "    </tr>\n",
       "    <tr>\n",
       "      <th>hdd</th>\n",
       "      <td>0</td>\n",
       "      <td>0.0</td>\n",
       "    </tr>\n",
       "    <tr>\n",
       "      <th>ssd</th>\n",
       "      <td>0</td>\n",
       "      <td>0.0</td>\n",
       "    </tr>\n",
       "    <tr>\n",
       "      <th>ram_type</th>\n",
       "      <td>0</td>\n",
       "      <td>0.0</td>\n",
       "    </tr>\n",
       "    <tr>\n",
       "      <th>ram_gb</th>\n",
       "      <td>0</td>\n",
       "      <td>0.0</td>\n",
       "    </tr>\n",
       "    <tr>\n",
       "      <th>processor_gnrtn</th>\n",
       "      <td>0</td>\n",
       "      <td>0.0</td>\n",
       "    </tr>\n",
       "    <tr>\n",
       "      <th>processor_name</th>\n",
       "      <td>0</td>\n",
       "      <td>0.0</td>\n",
       "    </tr>\n",
       "    <tr>\n",
       "      <th>processor_brand</th>\n",
       "      <td>0</td>\n",
       "      <td>0.0</td>\n",
       "    </tr>\n",
       "    <tr>\n",
       "      <th>reviews</th>\n",
       "      <td>0</td>\n",
       "      <td>0.0</td>\n",
       "    </tr>\n",
       "  </tbody>\n",
       "</table>\n",
       "</div>"
      ],
      "text/plain": [
       "                 count    %\n",
       "brand                0  0.0\n",
       "weight               0  0.0\n",
       "ratings              0  0.0\n",
       "star_rating          0  0.0\n",
       "discount             0  0.0\n",
       "old_price            0  0.0\n",
       "latest_price         0  0.0\n",
       "msoffice             0  0.0\n",
       "Touchscreen          0  0.0\n",
       "warranty             0  0.0\n",
       "display_size         0  0.0\n",
       "graphic_card_gb      0  0.0\n",
       "model                0  0.0\n",
       "os_bit               0  0.0\n",
       "os                   0  0.0\n",
       "hdd                  0  0.0\n",
       "ssd                  0  0.0\n",
       "ram_type             0  0.0\n",
       "ram_gb               0  0.0\n",
       "processor_gnrtn      0  0.0\n",
       "processor_name       0  0.0\n",
       "processor_brand      0  0.0\n",
       "reviews              0  0.0"
      ]
     },
     "execution_count": 6,
     "metadata": {},
     "output_type": "execute_result"
    }
   ],
   "source": [
    "#Look at the sum of missing information and what % of the data takes up the total\n",
    "missing = pd.concat([laptop_data.isnull().sum(), 100 * laptop_data.isnull().mean()], axis=1)\n",
    "\n",
    "#Relabel the columns to look at the count and %. \n",
    "missing.columns = ['count', '%']\n",
    "missing = missing.sort_values(by = 'count', ascending = False)\n",
    "\n",
    "missing"
   ]
  },
  {
   "cell_type": "markdown",
   "id": "8bbea0b0",
   "metadata": {},
   "source": [
    "Based on this, we see that there is no missing data! That's great!\n",
    "\n",
    "Except, we know that under the column for `display_size` that there is a label \"Missing\" for laptops that do not have their display size data scrapped. We should double check to see if there are columnes that have the word \"Missing\" instead of a NaN value."
   ]
  },
  {
   "cell_type": "code",
   "execution_count": 7,
   "id": "ac5691f2",
   "metadata": {
    "scrolled": true
   },
   "outputs": [],
   "source": [
    "#Collecting the names of each column in the dataframe\n",
    "laptop_columns = list(laptop_data.columns)"
   ]
  },
  {
   "cell_type": "code",
   "execution_count": 8,
   "id": "83ae3f44",
   "metadata": {},
   "outputs": [],
   "source": [
    "#Calculating the amount of times 'Missing' shows up in each column\n",
    "missing3 = [sum(laptop_data[column] == 'Missing') for column in laptop_data]"
   ]
  },
  {
   "cell_type": "code",
   "execution_count": 9,
   "id": "fb614553",
   "metadata": {},
   "outputs": [
    {
     "data": {
      "text/plain": [
       "[0, 95, 0, 0, 239, 0, 0, 0, 0, 0, 0, 0, 0, 332, 0, 0, 0, 0, 0, 0, 0, 0, 0]"
      ]
     },
     "execution_count": 9,
     "metadata": {},
     "output_type": "execute_result"
    }
   ],
   "source": [
    "missing3"
   ]
  },
  {
   "cell_type": "code",
   "execution_count": 10,
   "id": "638f0cec",
   "metadata": {
    "scrolled": true
   },
   "outputs": [
    {
     "data": {
      "text/html": [
       "<div>\n",
       "<style scoped>\n",
       "    .dataframe tbody tr th:only-of-type {\n",
       "        vertical-align: middle;\n",
       "    }\n",
       "\n",
       "    .dataframe tbody tr th {\n",
       "        vertical-align: top;\n",
       "    }\n",
       "\n",
       "    .dataframe thead th {\n",
       "        text-align: right;\n",
       "    }\n",
       "</style>\n",
       "<table border=\"1\" class=\"dataframe\">\n",
       "  <thead>\n",
       "    <tr style=\"text-align: right;\">\n",
       "      <th></th>\n",
       "      <th>0</th>\n",
       "    </tr>\n",
       "  </thead>\n",
       "  <tbody>\n",
       "    <tr>\n",
       "      <th>brand</th>\n",
       "      <td>0</td>\n",
       "    </tr>\n",
       "    <tr>\n",
       "      <th>model</th>\n",
       "      <td>95</td>\n",
       "    </tr>\n",
       "    <tr>\n",
       "      <th>processor_brand</th>\n",
       "      <td>0</td>\n",
       "    </tr>\n",
       "    <tr>\n",
       "      <th>processor_name</th>\n",
       "      <td>0</td>\n",
       "    </tr>\n",
       "    <tr>\n",
       "      <th>processor_gnrtn</th>\n",
       "      <td>239</td>\n",
       "    </tr>\n",
       "    <tr>\n",
       "      <th>ram_gb</th>\n",
       "      <td>0</td>\n",
       "    </tr>\n",
       "    <tr>\n",
       "      <th>ram_type</th>\n",
       "      <td>0</td>\n",
       "    </tr>\n",
       "    <tr>\n",
       "      <th>ssd</th>\n",
       "      <td>0</td>\n",
       "    </tr>\n",
       "    <tr>\n",
       "      <th>hdd</th>\n",
       "      <td>0</td>\n",
       "    </tr>\n",
       "    <tr>\n",
       "      <th>os</th>\n",
       "      <td>0</td>\n",
       "    </tr>\n",
       "    <tr>\n",
       "      <th>os_bit</th>\n",
       "      <td>0</td>\n",
       "    </tr>\n",
       "    <tr>\n",
       "      <th>graphic_card_gb</th>\n",
       "      <td>0</td>\n",
       "    </tr>\n",
       "    <tr>\n",
       "      <th>weight</th>\n",
       "      <td>0</td>\n",
       "    </tr>\n",
       "    <tr>\n",
       "      <th>display_size</th>\n",
       "      <td>332</td>\n",
       "    </tr>\n",
       "    <tr>\n",
       "      <th>warranty</th>\n",
       "      <td>0</td>\n",
       "    </tr>\n",
       "    <tr>\n",
       "      <th>Touchscreen</th>\n",
       "      <td>0</td>\n",
       "    </tr>\n",
       "    <tr>\n",
       "      <th>msoffice</th>\n",
       "      <td>0</td>\n",
       "    </tr>\n",
       "    <tr>\n",
       "      <th>latest_price</th>\n",
       "      <td>0</td>\n",
       "    </tr>\n",
       "    <tr>\n",
       "      <th>old_price</th>\n",
       "      <td>0</td>\n",
       "    </tr>\n",
       "    <tr>\n",
       "      <th>discount</th>\n",
       "      <td>0</td>\n",
       "    </tr>\n",
       "    <tr>\n",
       "      <th>star_rating</th>\n",
       "      <td>0</td>\n",
       "    </tr>\n",
       "    <tr>\n",
       "      <th>ratings</th>\n",
       "      <td>0</td>\n",
       "    </tr>\n",
       "    <tr>\n",
       "      <th>reviews</th>\n",
       "      <td>0</td>\n",
       "    </tr>\n",
       "  </tbody>\n",
       "</table>\n",
       "</div>"
      ],
      "text/plain": [
       "                   0\n",
       "brand              0\n",
       "model             95\n",
       "processor_brand    0\n",
       "processor_name     0\n",
       "processor_gnrtn  239\n",
       "ram_gb             0\n",
       "ram_type           0\n",
       "ssd                0\n",
       "hdd                0\n",
       "os                 0\n",
       "os_bit             0\n",
       "graphic_card_gb    0\n",
       "weight             0\n",
       "display_size     332\n",
       "warranty           0\n",
       "Touchscreen        0\n",
       "msoffice           0\n",
       "latest_price       0\n",
       "old_price          0\n",
       "discount           0\n",
       "star_rating        0\n",
       "ratings            0\n",
       "reviews            0"
      ]
     },
     "execution_count": 10,
     "metadata": {},
     "output_type": "execute_result"
    }
   ],
   "source": [
    "#Combinging the missing count to the column names to understand how many times 'Missing'\n",
    "#appears in each column\n",
    "\n",
    "laptop_missing = pd.DataFrame(data = missing3, index = laptop_columns)\n",
    "laptop_missing"
   ]
  },
  {
   "cell_type": "markdown",
   "id": "0cbebc75",
   "metadata": {},
   "source": [
    "From this we can see that `model`, `processor_gnrtn`, and `display_size` all have missing values. That means these are probably not good features for us to use as part of the regression model. Luckily, given our knowledge of laptops in general, we can say that model name probably is not extremely important for consumers when it comes to price. However, display size and processor generation could be important factors for pricing especially as generations get older.\n",
    "\n",
    "We may want to find a way to consider this information in our model even though they are missing quite a good chunk or a way to solve this missing data information."
   ]
  },
  {
   "cell_type": "markdown",
   "id": "b37f72e0",
   "metadata": {},
   "source": [
    "Looking at the columns, I see some information that could be formatted as numbers but instead are formatted as strings.\n",
    "\n",
    "We will pay close attentiong to the information in `ram_gb`,`ssd`, `hdd`, `os_bit`, `graphic_card_gb` as potential candidates for these as they are all measured in a unit and the data may have been formatted with this unit in the collection."
   ]
  },
  {
   "cell_type": "code",
   "execution_count": 11,
   "id": "f2eb54ae",
   "metadata": {
    "scrolled": true
   },
   "outputs": [
    {
     "data": {
      "text/html": [
       "<div>\n",
       "<style scoped>\n",
       "    .dataframe tbody tr th:only-of-type {\n",
       "        vertical-align: middle;\n",
       "    }\n",
       "\n",
       "    .dataframe tbody tr th {\n",
       "        vertical-align: top;\n",
       "    }\n",
       "\n",
       "    .dataframe thead th {\n",
       "        text-align: right;\n",
       "    }\n",
       "</style>\n",
       "<table border=\"1\" class=\"dataframe\">\n",
       "  <thead>\n",
       "    <tr style=\"text-align: right;\">\n",
       "      <th></th>\n",
       "      <th>ram_gb</th>\n",
       "      <th>ssd</th>\n",
       "      <th>hdd</th>\n",
       "      <th>os_bit</th>\n",
       "      <th>graphic_card_gb</th>\n",
       "      <th>weight</th>\n",
       "    </tr>\n",
       "  </thead>\n",
       "  <tbody>\n",
       "    <tr>\n",
       "      <th>0</th>\n",
       "      <td>4 GB GB</td>\n",
       "      <td>0 GB</td>\n",
       "      <td>1024 GB</td>\n",
       "      <td>64-bit</td>\n",
       "      <td>0</td>\n",
       "      <td>ThinNlight</td>\n",
       "    </tr>\n",
       "    <tr>\n",
       "      <th>1</th>\n",
       "      <td>4 GB GB</td>\n",
       "      <td>0 GB</td>\n",
       "      <td>512 GB</td>\n",
       "      <td>64-bit</td>\n",
       "      <td>0</td>\n",
       "      <td>Casual</td>\n",
       "    </tr>\n",
       "    <tr>\n",
       "      <th>2</th>\n",
       "      <td>4 GB GB</td>\n",
       "      <td>128 GB</td>\n",
       "      <td>0 GB</td>\n",
       "      <td>64-bit</td>\n",
       "      <td>0</td>\n",
       "      <td>ThinNlight</td>\n",
       "    </tr>\n",
       "    <tr>\n",
       "      <th>3</th>\n",
       "      <td>4 GB GB</td>\n",
       "      <td>128 GB</td>\n",
       "      <td>0 GB</td>\n",
       "      <td>64-bit</td>\n",
       "      <td>0</td>\n",
       "      <td>ThinNlight</td>\n",
       "    </tr>\n",
       "    <tr>\n",
       "      <th>4</th>\n",
       "      <td>4 GB GB</td>\n",
       "      <td>256 GB</td>\n",
       "      <td>0 GB</td>\n",
       "      <td>64-bit</td>\n",
       "      <td>0</td>\n",
       "      <td>ThinNlight</td>\n",
       "    </tr>\n",
       "  </tbody>\n",
       "</table>\n",
       "</div>"
      ],
      "text/plain": [
       "    ram_gb     ssd      hdd  os_bit  graphic_card_gb      weight\n",
       "0  4 GB GB    0 GB  1024 GB  64-bit                0  ThinNlight\n",
       "1  4 GB GB    0 GB   512 GB  64-bit                0      Casual\n",
       "2  4 GB GB  128 GB     0 GB  64-bit                0  ThinNlight\n",
       "3  4 GB GB  128 GB     0 GB  64-bit                0  ThinNlight\n",
       "4  4 GB GB  256 GB     0 GB  64-bit                0  ThinNlight"
      ]
     },
     "execution_count": 11,
     "metadata": {},
     "output_type": "execute_result"
    }
   ],
   "source": [
    "#Lets look at the head of each of the columns and see what we are working with\n",
    "laptop_data[['ram_gb','ssd','hdd','os_bit','graphic_card_gb','weight']].head()"
   ]
  },
  {
   "cell_type": "code",
   "execution_count": 12,
   "id": "bccb28a7",
   "metadata": {},
   "outputs": [],
   "source": [
    "#As we can see, it seems that the 'graphic_card_gb' does not contain the units \n",
    "#Since 'ram_gb', 'ssd', 'hdd', and 'os-bit' all contain the unit, we should parse this out\n",
    "#Seinc we want to repeat this, lets make a function and call it a few times\n",
    "#The function will take the dataframe of choice,\n",
    "#strip the string of choice and convert it to a int\n",
    "\n",
    "def unit_strip(df, col, string):\n",
    "    df[col] = df[col].str.strip(string)\n",
    "    df[col] = df[col].astype('int')\n",
    "    \n",
    "unit_strip(laptop_data, 'ram_gb','GB GB')\n",
    "unit_strip(laptop_data, 'ssd', 'GB') \n",
    "unit_strip(laptop_data, 'hdd', 'GB')\n",
    "unit_strip(laptop_data,'os_bit','-bit')"
   ]
  },
  {
   "cell_type": "code",
   "execution_count": 13,
   "id": "1157b4d8",
   "metadata": {},
   "outputs": [
    {
     "data": {
      "text/html": [
       "<div>\n",
       "<style scoped>\n",
       "    .dataframe tbody tr th:only-of-type {\n",
       "        vertical-align: middle;\n",
       "    }\n",
       "\n",
       "    .dataframe tbody tr th {\n",
       "        vertical-align: top;\n",
       "    }\n",
       "\n",
       "    .dataframe thead th {\n",
       "        text-align: right;\n",
       "    }\n",
       "</style>\n",
       "<table border=\"1\" class=\"dataframe\">\n",
       "  <thead>\n",
       "    <tr style=\"text-align: right;\">\n",
       "      <th></th>\n",
       "      <th>ram_gb</th>\n",
       "      <th>ssd</th>\n",
       "      <th>hdd</th>\n",
       "      <th>os_bit</th>\n",
       "      <th>graphic_card_gb</th>\n",
       "    </tr>\n",
       "  </thead>\n",
       "  <tbody>\n",
       "    <tr>\n",
       "      <th>0</th>\n",
       "      <td>4</td>\n",
       "      <td>0</td>\n",
       "      <td>1024</td>\n",
       "      <td>64</td>\n",
       "      <td>0</td>\n",
       "    </tr>\n",
       "    <tr>\n",
       "      <th>1</th>\n",
       "      <td>4</td>\n",
       "      <td>0</td>\n",
       "      <td>512</td>\n",
       "      <td>64</td>\n",
       "      <td>0</td>\n",
       "    </tr>\n",
       "    <tr>\n",
       "      <th>2</th>\n",
       "      <td>4</td>\n",
       "      <td>128</td>\n",
       "      <td>0</td>\n",
       "      <td>64</td>\n",
       "      <td>0</td>\n",
       "    </tr>\n",
       "    <tr>\n",
       "      <th>3</th>\n",
       "      <td>4</td>\n",
       "      <td>128</td>\n",
       "      <td>0</td>\n",
       "      <td>64</td>\n",
       "      <td>0</td>\n",
       "    </tr>\n",
       "    <tr>\n",
       "      <th>4</th>\n",
       "      <td>4</td>\n",
       "      <td>256</td>\n",
       "      <td>0</td>\n",
       "      <td>64</td>\n",
       "      <td>0</td>\n",
       "    </tr>\n",
       "  </tbody>\n",
       "</table>\n",
       "</div>"
      ],
      "text/plain": [
       "   ram_gb  ssd   hdd  os_bit  graphic_card_gb\n",
       "0       4    0  1024      64                0\n",
       "1       4    0   512      64                0\n",
       "2       4  128     0      64                0\n",
       "3       4  128     0      64                0\n",
       "4       4  256     0      64                0"
      ]
     },
     "execution_count": 13,
     "metadata": {},
     "output_type": "execute_result"
    }
   ],
   "source": [
    "#Lets make sure that it worked\n",
    "laptop_data[['ram_gb','ssd','hdd','os_bit','graphic_card_gb']].head()"
   ]
  },
  {
   "cell_type": "code",
   "execution_count": 14,
   "id": "f0697276",
   "metadata": {},
   "outputs": [
    {
     "data": {
      "text/plain": [
       "Index(['brand', 'model', 'processor_brand', 'processor_name',\n",
       "       'processor_gnrtn', 'ram_gb', 'ram_type', 'ssd_gb', 'hdd_gb', 'os',\n",
       "       'os_bit', 'graphic_card_gb', 'weight', 'display_size', 'warranty',\n",
       "       'Touchscreen', 'msoffice', 'latest_price', 'old_price', 'discount',\n",
       "       'star_rating', 'ratings', 'reviews'],\n",
       "      dtype='object')"
      ]
     },
     "execution_count": 14,
     "metadata": {},
     "output_type": "execute_result"
    }
   ],
   "source": [
    "#Now, lets rename the columns ssd and hdd so that they show the unit\n",
    "laptop_data.rename(columns = {'ssd':'ssd_gb','hdd':'hdd_gb'}, inplace = True)\n",
    "laptop_data.columns"
   ]
  },
  {
   "cell_type": "markdown",
   "id": "1830e4ec",
   "metadata": {},
   "source": [
    "## Dropping some columns\n",
    "Looking at the columns that we have, it may be useful to drop a few. Based on our domain knowledge we can reasonably expect that `old_price` and `discount` may not be useful for pricing models as we want the most recent price to make the most accurate model. \n",
    "\n",
    "We can also drop things like `reviews`, `star_rating` and `ratings` since our new product will not have ratings associated with it yet and we won't be able to use that as a pricing predictor. Removing these columns will make exploration more straightforward."
   ]
  },
  {
   "cell_type": "code",
   "execution_count": 15,
   "id": "99925640",
   "metadata": {
    "scrolled": true
   },
   "outputs": [],
   "source": [
    "#:ets remove the columns 'old_price','discount', 'reviews, star_rating', \n",
    "#and 'ratings' as we do not need them at the moment\n",
    "\n",
    "laptop_data.drop(columns = ['old_price', 'discount', 'reviews','star_rating','ratings'], inplace = True)\n"
   ]
  },
  {
   "cell_type": "code",
   "execution_count": 16,
   "id": "c1c05c9d",
   "metadata": {},
   "outputs": [
    {
     "data": {
      "text/plain": [
       "Index(['brand', 'model', 'processor_brand', 'processor_name',\n",
       "       'processor_gnrtn', 'ram_gb', 'ram_type', 'ssd_gb', 'hdd_gb', 'os',\n",
       "       'os_bit', 'graphic_card_gb', 'weight', 'display_size', 'warranty',\n",
       "       'Touchscreen', 'msoffice', 'latest_price'],\n",
       "      dtype='object')"
      ]
     },
     "execution_count": 16,
     "metadata": {},
     "output_type": "execute_result"
    }
   ],
   "source": [
    "laptop_data.columns"
   ]
  },
  {
   "cell_type": "markdown",
   "id": "d249cc0c",
   "metadata": {},
   "source": [
    "Because so much of the data such as brand, model, and other information is so common (as laptop brands tend to use the same model name but with varying features) we do not have a strong necessity to look for duplicates in the data.\n",
    "\n",
    "Before we move on, lets change the prices from INR to USD.\n",
    "\n",
    "Currently 1 INR is equal to 0.013 USD so we will take the latest price and multiply that by 0.013 to get the USD price of the laptops. Since we are only interested in the latest price, we will drop the `old_price` and `discount` columns as well. Additionally, the `reviews` column is for the number of reviews a particular laptop has which is not useful for modeling price. We will be removing that column as well"
   ]
  },
  {
   "cell_type": "code",
   "execution_count": 17,
   "id": "0cc6014b",
   "metadata": {},
   "outputs": [],
   "source": [
    "#Multiply the current value by 0.013 and convert to USD.\n",
    "\n",
    "laptop_data['latest_price'] = laptop_data['latest_price'] * 0.013\n"
   ]
  },
  {
   "cell_type": "code",
   "execution_count": 18,
   "id": "c62ca826",
   "metadata": {
    "scrolled": false
   },
   "outputs": [
    {
     "data": {
      "text/plain": [
       "0    324.87\n",
       "1    254.67\n",
       "2    259.87\n",
       "3    279.37\n",
       "4    324.87\n",
       "Name: latest_price, dtype: float64"
      ]
     },
     "execution_count": 18,
     "metadata": {},
     "output_type": "execute_result"
    }
   ],
   "source": [
    "laptop_data['latest_price'].head()"
   ]
  },
  {
   "cell_type": "markdown",
   "id": "28990c1c",
   "metadata": {},
   "source": [
    "## Visualizing the data and understand how it \"looks\"\n",
    "Here, we are going to look at how some of the information is organized and see if there are any features based on these distributions and our domain knowledge that can be removed from the modeling dataset."
   ]
  },
  {
   "cell_type": "code",
   "execution_count": 19,
   "id": "039cd019",
   "metadata": {
    "scrolled": false
   },
   "outputs": [
    {
     "data": {
      "image/png": "[encoded data removed]",
      "text/plain": [
       "<Figure size 1080x720 with 9 Axes>"
      ]
     },
     "metadata": {
      "needs_background": "light"
     },
     "output_type": "display_data"
    }
   ],
   "source": [
    "# Lets use histograms to make a quick and dirty visualization of what numerical data\n",
    "#might be useful for us in the dataset\n",
    "\n",
    "laptop_data.hist(figsize = (15,10))\n",
    "plt.subplots_adjust(hspace = 0.5);"
   ]
  },
  {
   "cell_type": "markdown",
   "id": "15690601",
   "metadata": {},
   "source": [
    "Lets try to visualize the string data. By using value_counts we can get counts of how often each string shows up in our data and creating a visualization out of that information. \n",
    "\n",
    "Since this is repetitive, lets build a function to do at least part of it!"
   ]
  },
  {
   "cell_type": "code",
   "execution_count": 54,
   "id": "f10ff7f6",
   "metadata": {},
   "outputs": [],
   "source": [
    "#We're going to look at the columns 'brand', 'model', 'processor_brand','processor_name','os','weight'\n",
    "#'Touchscreen', and 'msoffice'\n",
    "#We're gonna start with building a function that might be able to automate the counting\n",
    "\n",
    "def count_column(df,col_list):\n",
    "    count = {}\n",
    "    for elem in col_list:\n",
    "        count[elem] = df[elem].value_counts()\n",
    "    return count\n",
    "\n",
    "columns_to_count = ['brand','model','processor_brand', 'processor_name','os','weight','Touchscreen','msoffice']\n",
    "laptop_string_counts = count_column(laptop_data, columns_to_count)"
   ]
  },
  {
   "cell_type": "code",
   "execution_count": 178,
   "id": "16b47b51",
   "metadata": {},
   "outputs": [
    {
     "data": {
      "image/png": "[encoded data removed]",
      "text/plain": [
       "<Figure size 1080x1440 with 8 Axes>"
      ]
     },
     "metadata": {
      "needs_background": "light"
     },
     "output_type": "display_data"
    }
   ],
   "source": [
    "#Now we can plot the string counts out!\n",
    "\n",
    "plt.figure(figsize = (15,20))\n",
    "plt.subplots_adjust(hspace = 1.0)\n",
    "\n",
    "    \n",
    "for n, key in enumerate(laptop_string_counts):\n",
    "    ax = plt.subplot(5,2,n+1)\n",
    "    laptop_string_counts[key].plot(kind = 'bar', ax = ax)\n",
    "    \n",
    "for tick in ax.xaxis.get_major_ticks()[1::2]:\n",
    "        tick.set_pad(15);"
   ]
  },
  {
   "cell_type": "markdown",
   "id": "94c83889",
   "metadata": {},
   "source": [
    "That second chart is a bit unreadable so lets isolate it and visualize it. It looks like the laptop brand chart"
   ]
  },
  {
   "cell_type": "code",
   "execution_count": 184,
   "id": "3dbf5bbe",
   "metadata": {},
   "outputs": [
    {
     "data": {
      "image/png": "[encoded data removed]",
      "text/plain": [
       "<Figure size 1080x936 with 1 Axes>"
      ]
     },
     "metadata": {
      "needs_background": "light"
     },
     "output_type": "display_data"
    }
   ],
   "source": [
    "fig, ax = plt.subplots(figsize = (15,13))\n",
    "laptop_string_counts['model'].plot(kind='bar', ax =ax)\n",
    "\n",
    "for tick in ax.xaxis.get_major_ticks()[1::2]:\n",
    "    tick.set_pad(60)\n",
    "    \n",
    "plt.yticks(np.arange(0,max(laptop_string_counts['model']),2));"
   ]
  },
  {
   "cell_type": "markdown",
   "id": "d895428b",
   "metadata": {},
   "source": [
    "# TALK ABOUT THE VISUAL REPRESENTATION HERE"
   ]
  },
  {
   "cell_type": "markdown",
   "id": "edf1fc07",
   "metadata": {},
   "source": [
    "## Distribution of prices by a few features\n",
    "\n",
    "Lets look at some of the pricing by some features and see how we can potentially gather some information out of the dataframe. "
   ]
  }
 ],
 "metadata": {
  "kernelspec": {
   "display_name": "Python 3 (ipykernel)",
   "language": "python",
   "name": "python3"
  },
  "language_info": {
   "codemirror_mode": {
    "name": "ipython",
    "version": 3
   },
   "file_extension": ".py",
   "mimetype": "text/x-python",
   "name": "python",
   "nbconvert_exporter": "python",
   "pygments_lexer": "ipython3",
   "version": "3.9.7"
  }
 },
 "nbformat": 4,
 "nbformat_minor": 5
}
