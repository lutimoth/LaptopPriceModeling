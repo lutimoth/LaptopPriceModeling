{
 "cells": [
  {
   "cell_type": "markdown",
   "id": "cc95bccc",
   "metadata": {},
   "source": [
    "## Models\n",
    "\n",
    "Test out the following models:\n",
    "K-Mode Clustering\n",
    "XGBoost\n",
    "Random Forest\n",
    "Isomapping\n",
    "\n",
    "GLM not necessary potentially?"
   ]
  },
  {
   "cell_type": "code",
   "execution_count": null,
   "id": "7a7ee08c",
   "metadata": {},
   "outputs": [],
   "source": [
    "# Necessary imports\n",
    "#The foundation\n",
    "import pandas as pd\n",
    "import matplotlib.pyplot as plt\n",
    "import os\n",
    "import numpy as np\n",
    "\n",
    "#The models\n",
    "import..."
   ]
  },
  {
   "cell_type": "code",
   "execution_count": null,
   "id": "ec420fdc",
   "metadata": {},
   "outputs": [],
   "source": [
    "# Calling out the stored variable for our models\n",
    "from sklearn import datasets\n",
    "%store -r df"
   ]
  }
 ],
 "metadata": {
  "kernelspec": {
   "display_name": "Python 3 (ipykernel)",
   "language": "python",
   "name": "python3"
  },
  "language_info": {
   "codemirror_mode": {
    "name": "ipython",
    "version": 3
   },
   "file_extension": ".py",
   "mimetype": "text/x-python",
   "name": "python",
   "nbconvert_exporter": "python",
   "pygments_lexer": "ipython3",
   "version": "3.9.7"
  }
 },
 "nbformat": 4,
 "nbformat_minor": 5
}
