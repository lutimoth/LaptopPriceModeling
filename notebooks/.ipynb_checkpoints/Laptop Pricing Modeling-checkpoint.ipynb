{
 "cells": [
  {
   "cell_type": "markdown",
   "id": "76ea3874",
   "metadata": {},
   "source": [
    "## Modeling Laptop Prices\n",
    "\n",
    "We continue with our goal of taking some key laptop features and using them to discover whethere there are any trends or grouping to laptop pricing. Ideally, we find a model that can accurately portray our laptop pricing data and give us an idea of what features matter the most to our customers. In this way, we can accurately price any new releases and focus on developing a laptop with features that our consumers care about. We want to avoid overcharging for features that consumers have no interest which would lead to lower sales. We also want to make sure our supply matches consumer needs and thus increase our sales by giving consumers their ideal laptop at the right price point.\n",
    "\n",
    "Our next step moving forward will be to test out some models. We will be running through the pre-processing steps here that was done in a previous notebook and then implement that dataframe into our models.\n",
    "\n",
    "Let us start by importing the foundational packages needed and then move on to setting the stage for our data."
   ]
  },
  {
   "cell_type": "code",
   "execution_count": 1,
   "id": "7a7ee08c",
   "metadata": {},
   "outputs": [],
   "source": [
    "# Necessary imports\n",
    "#The foundation\n",
    "#The models will be imported as needed\n",
    "import pandas as pd\n",
    "import matplotlib.pyplot as plt\n",
    "import os\n",
    "import numpy as np\n",
    "from sklearn.model_selection import train_test_split\n",
    "from sklearn.preprocessing import MinMaxScaler\n",
    "from sklearn import metrics\n",
    "import seaborn as sns\n",
    "\n",
    "import warnings\n",
    "warnings.filterwarnings(\"ignore\")"
   ]
  },
  {
   "cell_type": "code",
   "execution_count": 2,
   "id": "242cb0d6",
   "metadata": {},
   "outputs": [
    {
     "name": "stdout",
     "output_type": "stream",
     "text": [
      "<class 'pandas.core.frame.DataFrame'>\n",
      "Int64Index: 896 entries, 0 to 895\n",
      "Data columns (total 17 columns):\n",
      " #   Column           Non-Null Count  Dtype  \n",
      "---  ------           --------------  -----  \n",
      " 0   brand            896 non-null    object \n",
      " 1   model            896 non-null    object \n",
      " 2   processor_brand  896 non-null    object \n",
      " 3   processor_name   896 non-null    object \n",
      " 4   processor_gnrtn  896 non-null    object \n",
      " 5   ram_gb           896 non-null    int64  \n",
      " 6   ram_type         896 non-null    object \n",
      " 7   ssd_gb           896 non-null    int64  \n",
      " 8   hdd_gb           896 non-null    int64  \n",
      " 9   os               896 non-null    object \n",
      " 10  os_bit           896 non-null    int64  \n",
      " 11  graphic_card_gb  896 non-null    int64  \n",
      " 12  weight           896 non-null    object \n",
      " 13  display_size     896 non-null    object \n",
      " 14  warranty         896 non-null    int64  \n",
      " 15  msoffice         896 non-null    object \n",
      " 16  latest_price     896 non-null    float64\n",
      "dtypes: float64(1), int64(6), object(10)\n",
      "memory usage: 126.0+ KB\n"
     ]
    }
   ],
   "source": [
    "# Loading our data!\n",
    "laptop_data = pd.read_csv('../dataset/tim_laptop_cleaned.csv', index_col = 0)\n",
    "\n",
    "# Checking our data tyes and the size of our dataframe\n",
    "laptop_data.info()"
   ]
  },
  {
   "cell_type": "markdown",
   "id": "4980f436",
   "metadata": {},
   "source": [
    "From our previous exploration, we know that there is some work to be done with these data types. The model column in particular is extremely diverse and does not offer a lot of meaningful information as it is spread so thing across the categories. There are also some missing values in the columns `processor_gnrtn` and `display_size` that we will need to impute so we can use the data. The following cells will manage that for us."
   ]
  },
  {
   "cell_type": "code",
   "execution_count": 3,
   "id": "ac71f573",
   "metadata": {},
   "outputs": [
    {
     "data": {
      "text/plain": [
       "brand                0\n",
       "processor_brand      0\n",
       "processor_name       0\n",
       "processor_gnrtn    239\n",
       "ram_gb               0\n",
       "ram_type             0\n",
       "ssd_gb               0\n",
       "hdd_gb               0\n",
       "os                   0\n",
       "os_bit               0\n",
       "graphic_card_gb      0\n",
       "weight               0\n",
       "display_size       332\n",
       "warranty             0\n",
       "msoffice             0\n",
       "latest_price         0\n",
       "dtype: int64"
      ]
     },
     "execution_count": 3,
     "metadata": {},
     "output_type": "execute_result"
    }
   ],
   "source": [
    "#Dropping the model column from our data as it was too extraneous\n",
    "laptop_df = laptop_data.drop(['model'], axis = 1)\n",
    "\n",
    "#Replace the string 'Missing' with NaN so we can properly impute\n",
    "laptop_df = laptop_df.replace('Missing', np.nan)\n",
    "laptop_df.isna().sum()"
   ]
  },
  {
   "cell_type": "markdown",
   "id": "02d9b843",
   "metadata": {},
   "source": [
    "## 1. Data Preparation: Imputing, Dummy Variables, and Binarize\n",
    "\n",
    "We are going to impute the `processor_gnrtn` and `display_size` so that we can keep that data otherwise we would have a lot of missing data. It also is reasonable to anticipate the \"most common\" models.\n",
    "\n",
    "We will also binarize `warranty` because it is more useful to have two groups of \"yes\" and \"no\" instead of one group of \"no\" and multiple small groups of varying sizes. It would give us more warranty power.\n",
    "\n",
    "Because not every model will require us to dummy-encode our categorical variables we will do so as needed."
   ]
  },
  {
   "cell_type": "code",
   "execution_count": 4,
   "id": "f8bdfddf",
   "metadata": {},
   "outputs": [],
   "source": [
    "#Imputing `process_gnrtn` with the mode of the column\n",
    "laptop_df['processor_gnrtn'] = laptop_df['processor_gnrtn'].fillna(laptop_df['processor_gnrtn'].mode()[0])\n",
    "\n",
    "# Convert the `display_size` to numeric quantity then impute with the mode\n",
    "laptop_df['display_size'] = pd.to_numeric(laptop_df['display_size'])\n",
    "laptop_df['display_size'] = laptop_df['display_size'].fillna(laptop_df['display_size'].mode()[0])"
   ]
  },
  {
   "cell_type": "code",
   "execution_count": 5,
   "id": "baa6961d",
   "metadata": {},
   "outputs": [],
   "source": [
    "#Binarize and drop warranty\n",
    "df = laptop_df\n",
    "df['Binarize_Warranty'] = 0\n",
    "df.loc[df['warranty'] > 0, 'Binarize_Warranty'] = 1\n",
    "\n",
    "df = df.drop('warranty', axis = 1)"
   ]
  },
  {
   "cell_type": "code",
   "execution_count": 6,
   "id": "f7ef2aa7",
   "metadata": {},
   "outputs": [
    {
     "data": {
      "text/plain": [
       "brand                0\n",
       "processor_brand      0\n",
       "processor_name       0\n",
       "processor_gnrtn      0\n",
       "ram_gb               0\n",
       "ram_type             0\n",
       "ssd_gb               0\n",
       "hdd_gb               0\n",
       "os                   0\n",
       "os_bit               0\n",
       "graphic_card_gb      0\n",
       "weight               0\n",
       "display_size         0\n",
       "msoffice             0\n",
       "latest_price         0\n",
       "Binarize_Warranty    0\n",
       "dtype: int64"
      ]
     },
     "execution_count": 6,
     "metadata": {},
     "output_type": "execute_result"
    }
   ],
   "source": [
    "df.isna().sum()"
   ]
  },
  {
   "cell_type": "code",
   "execution_count": 7,
   "id": "a246cf5b",
   "metadata": {},
   "outputs": [
    {
     "data": {
      "text/html": [
       "<div>\n",
       "<style scoped>\n",
       "    .dataframe tbody tr th:only-of-type {\n",
       "        vertical-align: middle;\n",
       "    }\n",
       "\n",
       "    .dataframe tbody tr th {\n",
       "        vertical-align: top;\n",
       "    }\n",
       "\n",
       "    .dataframe thead th {\n",
       "        text-align: right;\n",
       "    }\n",
       "</style>\n",
       "<table border=\"1\" class=\"dataframe\">\n",
       "  <thead>\n",
       "    <tr style=\"text-align: right;\">\n",
       "      <th></th>\n",
       "      <th>brand</th>\n",
       "      <th>processor_brand</th>\n",
       "      <th>processor_name</th>\n",
       "      <th>processor_gnrtn</th>\n",
       "      <th>ram_gb</th>\n",
       "      <th>ram_type</th>\n",
       "      <th>ssd_gb</th>\n",
       "      <th>hdd_gb</th>\n",
       "      <th>os</th>\n",
       "      <th>os_bit</th>\n",
       "      <th>graphic_card_gb</th>\n",
       "      <th>weight</th>\n",
       "      <th>display_size</th>\n",
       "      <th>msoffice</th>\n",
       "      <th>latest_price</th>\n",
       "      <th>Binarize_Warranty</th>\n",
       "    </tr>\n",
       "  </thead>\n",
       "  <tbody>\n",
       "    <tr>\n",
       "      <th>0</th>\n",
       "      <td>Lenovo</td>\n",
       "      <td>AMD</td>\n",
       "      <td>A6-9225 Processor</td>\n",
       "      <td>10th</td>\n",
       "      <td>4</td>\n",
       "      <td>DDR4</td>\n",
       "      <td>0</td>\n",
       "      <td>1024</td>\n",
       "      <td>Windows</td>\n",
       "      <td>64</td>\n",
       "      <td>0</td>\n",
       "      <td>ThinNlight</td>\n",
       "      <td>15.6</td>\n",
       "      <td>No</td>\n",
       "      <td>324.87</td>\n",
       "      <td>0</td>\n",
       "    </tr>\n",
       "    <tr>\n",
       "      <th>1</th>\n",
       "      <td>Lenovo</td>\n",
       "      <td>AMD</td>\n",
       "      <td>APU Dual</td>\n",
       "      <td>10th</td>\n",
       "      <td>4</td>\n",
       "      <td>DDR4</td>\n",
       "      <td>0</td>\n",
       "      <td>512</td>\n",
       "      <td>Windows</td>\n",
       "      <td>64</td>\n",
       "      <td>0</td>\n",
       "      <td>Casual</td>\n",
       "      <td>15.6</td>\n",
       "      <td>No</td>\n",
       "      <td>254.67</td>\n",
       "      <td>0</td>\n",
       "    </tr>\n",
       "    <tr>\n",
       "      <th>2</th>\n",
       "      <td>Avita</td>\n",
       "      <td>AMD</td>\n",
       "      <td>APU Dual</td>\n",
       "      <td>10th</td>\n",
       "      <td>4</td>\n",
       "      <td>DDR4</td>\n",
       "      <td>128</td>\n",
       "      <td>0</td>\n",
       "      <td>Windows</td>\n",
       "      <td>64</td>\n",
       "      <td>0</td>\n",
       "      <td>ThinNlight</td>\n",
       "      <td>15.6</td>\n",
       "      <td>No</td>\n",
       "      <td>259.87</td>\n",
       "      <td>0</td>\n",
       "    </tr>\n",
       "    <tr>\n",
       "      <th>3</th>\n",
       "      <td>Avita</td>\n",
       "      <td>AMD</td>\n",
       "      <td>APU Dual</td>\n",
       "      <td>10th</td>\n",
       "      <td>4</td>\n",
       "      <td>DDR4</td>\n",
       "      <td>128</td>\n",
       "      <td>0</td>\n",
       "      <td>Windows</td>\n",
       "      <td>64</td>\n",
       "      <td>0</td>\n",
       "      <td>ThinNlight</td>\n",
       "      <td>15.6</td>\n",
       "      <td>No</td>\n",
       "      <td>279.37</td>\n",
       "      <td>0</td>\n",
       "    </tr>\n",
       "    <tr>\n",
       "      <th>4</th>\n",
       "      <td>Avita</td>\n",
       "      <td>AMD</td>\n",
       "      <td>APU Dual</td>\n",
       "      <td>10th</td>\n",
       "      <td>4</td>\n",
       "      <td>DDR4</td>\n",
       "      <td>256</td>\n",
       "      <td>0</td>\n",
       "      <td>Windows</td>\n",
       "      <td>64</td>\n",
       "      <td>0</td>\n",
       "      <td>ThinNlight</td>\n",
       "      <td>15.6</td>\n",
       "      <td>No</td>\n",
       "      <td>324.87</td>\n",
       "      <td>0</td>\n",
       "    </tr>\n",
       "  </tbody>\n",
       "</table>\n",
       "</div>"
      ],
      "text/plain": [
       "    brand processor_brand     processor_name processor_gnrtn  ram_gb ram_type  \\\n",
       "0  Lenovo             AMD  A6-9225 Processor            10th       4     DDR4   \n",
       "1  Lenovo             AMD           APU Dual            10th       4     DDR4   \n",
       "2   Avita             AMD           APU Dual            10th       4     DDR4   \n",
       "3   Avita             AMD           APU Dual            10th       4     DDR4   \n",
       "4   Avita             AMD           APU Dual            10th       4     DDR4   \n",
       "\n",
       "   ssd_gb  hdd_gb       os  os_bit  graphic_card_gb      weight  display_size  \\\n",
       "0       0    1024  Windows      64                0  ThinNlight          15.6   \n",
       "1       0     512  Windows      64                0      Casual          15.6   \n",
       "2     128       0  Windows      64                0  ThinNlight          15.6   \n",
       "3     128       0  Windows      64                0  ThinNlight          15.6   \n",
       "4     256       0  Windows      64                0  ThinNlight          15.6   \n",
       "\n",
       "  msoffice  latest_price  Binarize_Warranty  \n",
       "0       No        324.87                  0  \n",
       "1       No        254.67                  0  \n",
       "2       No        259.87                  0  \n",
       "3       No        279.37                  0  \n",
       "4       No        324.87                  0  "
      ]
     },
     "execution_count": 7,
     "metadata": {},
     "output_type": "execute_result"
    }
   ],
   "source": [
    "df.head()"
   ]
  },
  {
   "cell_type": "code",
   "execution_count": 8,
   "id": "2ed7a336",
   "metadata": {},
   "outputs": [
    {
     "data": {
      "text/plain": [
       "(896, 16)"
      ]
     },
     "execution_count": 8,
     "metadata": {},
     "output_type": "execute_result"
    }
   ],
   "source": [
    "df.shape"
   ]
  },
  {
   "cell_type": "markdown",
   "id": "cc95bccc",
   "metadata": {},
   "source": [
    "## 2. Model Testing\n",
    "\n",
    "We wil be testing out the following models: K-Mode Clustering, Isomapping, and XGBoost.\n",
    "\n",
    "As we go through each mdoel, we will go through the reasoning for each. At the end, we will decide which model we believe to be the most useful for our needs and which model to go with.\n",
    "\n",
    "Due to the high-dimensionality of our data and the extreme categorical/sparseness of it we have chosen to not use a linear model as it may not be an accurate representation of our goal."
   ]
  },
  {
   "cell_type": "markdown",
   "id": "2e534cf2",
   "metadata": {},
   "source": [
    "## 2.1 K-Modes\n",
    "\n",
    "We will first start with K-Modes. It is an extension of K-Means which allows us to study categorical variables. While K-Means finds cluster centers using the mean of the data, K-Modes uses the Mode of the data as a our centroid. That means we are able to utilize categorical dummy variables in order to analyse our data.\n",
    "\n",
    "The k-prototypes model allows us to treat our categorical and numerical data equivalently. It does not require us to perform pre-processing on our categorical data so we will be scaling the data and adding it to our original data set.\n",
    "\n",
    "We will create the dataset using the `df` dataframe that contains all of our data. We will scale our numerical data using MinMaxScaler to prevent huge distances between points and allow us to properly cluster. "
   ]
  },
  {
   "cell_type": "code",
   "execution_count": 9,
   "id": "f64ee09c",
   "metadata": {},
   "outputs": [
    {
     "data": {
      "text/plain": [
       "(896, 16)"
      ]
     },
     "execution_count": 9,
     "metadata": {},
     "output_type": "execute_result"
    }
   ],
   "source": [
    "#Create the dataset -> We are working with clustering so no need to create a train/test set\n",
    "\n",
    "X = df\n",
    "X.shape"
   ]
  },
  {
   "cell_type": "code",
   "execution_count": 10,
   "id": "8a530ee4",
   "metadata": {},
   "outputs": [],
   "source": [
    "#Scale our X accordingly using MinMaxScaler\n",
    "X_to_scale = ['ram_gb', 'ssd_gb', 'hdd_gb', 'graphic_card_gb', 'display_size', 'latest_price']\n",
    "\n",
    "#Initialize the MinMax Scaler\n",
    "X_scaled = MinMaxScaler()\n",
    "\n",
    "#Fit the X data for our numerical columns\n",
    "X_scaled.fit(X[X_to_scale])\n",
    "\n",
    "#Transform the X data for both the X_train and X_test\n",
    "X_scaled = X_scaled.transform(X[X_to_scale])\n",
    "\n",
    "#Convert these back to dataframes so we can add them back in\n",
    "X_scaled = pd.DataFrame(X_scaled, index=X.index, columns = X_to_scale)\n"
   ]
  },
  {
   "cell_type": "code",
   "execution_count": 11,
   "id": "f9cca8f7",
   "metadata": {},
   "outputs": [
    {
     "name": "stdout",
     "output_type": "stream",
     "text": [
      "(896, 16)\n"
     ]
    }
   ],
   "source": [
    "#Add back in the columns\n",
    "#All the other columns\n",
    "X_other_columns = X.columns.drop(X_to_scale)\n",
    "\n",
    "#Join from scaled to not-scaled\n",
    "X = X_scaled.join(X[X_other_columns])\n",
    "\n",
    "#Make sure we have no crazy join issues, we should have shape [896, 75] \n",
    "print(X.shape)"
   ]
  },
  {
   "cell_type": "code",
   "execution_count": 12,
   "id": "726307a5",
   "metadata": {},
   "outputs": [
    {
     "data": {
      "text/plain": [
       "Index(['ram_gb', 'ssd_gb', 'hdd_gb', 'graphic_card_gb', 'display_size',\n",
       "       'latest_price', 'brand', 'processor_brand', 'processor_name',\n",
       "       'processor_gnrtn', 'ram_type', 'os', 'os_bit', 'weight', 'msoffice',\n",
       "       'Binarize_Warranty'],\n",
       "      dtype='object')"
      ]
     },
     "execution_count": 12,
     "metadata": {},
     "output_type": "execute_result"
    }
   ],
   "source": [
    "X.columns"
   ]
  },
  {
   "cell_type": "code",
   "execution_count": 13,
   "id": "6d30a4b1",
   "metadata": {},
   "outputs": [],
   "source": [
    "#Start with K-Mode Clustering from: https://github.com/nicodv/kmodes\n",
    "#Install using conda install -c conda-forge kmodes (on anaconda)\n",
    "from kmodes import kmodes, kprototypes"
   ]
  },
  {
   "cell_type": "code",
   "execution_count": 19,
   "id": "366ad09c",
   "metadata": {},
   "outputs": [
    {
     "data": {
      "image/png": "[encoded data removed]",
      "text/plain": [
       "<Figure size 432x288 with 1 Axes>"
      ]
     },
     "metadata": {
      "needs_background": "light"
     },
     "output_type": "display_data"
    }
   ],
   "source": [
    "#We will initialize our model - documentation here: https://github.com/nicodv/kmodes/blob/master/kmodes/kprototypes.py\n",
    "#We need to first see how many clusters would be ideal for our algorithm\n",
    "#Also define the initialization method utilizing Cao's algorithm\n",
    "\n",
    "cost =[]\n",
    "K = range(1,20)\n",
    "#categorical indices\n",
    "categorical = list(range(6,16))\n",
    "for num in list(K):\n",
    "    kmodes = kprototypes.KPrototypes(n_clusters = num, init = 'Cao', n_init = 5);\n",
    "    kmodes.fit_predict(X, categorical = categorical);\n",
    "    cost.append(kmodes.cost_)\n",
    "    \n",
    "plt.plot(K, cost, 'bx-')\n",
    "plt.xlabel('k clusters')\n",
    "plt.ylabel('Cost')\n",
    "plt.title('Elbow Method For Optimal k')\n",
    "plt.show()"
   ]
  },
  {
   "cell_type": "markdown",
   "id": "7029e1c6",
   "metadata": {},
   "source": [
    "### 2.1.1 Implement model\n",
    "\n",
    "Based on the scree plot, we can see that 12 clusters seems to be the sweet spot for our k-prototype model. We will model using 12 clusters and look at where our centroids land. "
   ]
  },
  {
   "cell_type": "code",
   "execution_count": 15,
   "id": "d663666d",
   "metadata": {},
   "outputs": [],
   "source": [
    "#It seems that 12 clusters is the ideal grouping for our data\n",
    "kmodes = kprototypes.KPrototypes(n_clusters = 12, init = 'Cao', n_init = 5);\n",
    "clusters = kmodes.fit_predict(X, categorical = categorical);"
   ]
  },
  {
   "cell_type": "code",
   "execution_count": 17,
   "id": "661034ee",
   "metadata": {},
   "outputs": [
    {
     "data": {
      "text/plain": [
       "array([['0.1994851994851974', '0.17192192192192415', '0.0',\n",
       "        '0.16891891891891891', '0.6488252958841237',\n",
       "        '0.14012444219920817', 'ASUS', 'Intel', 'Core i5', '11th',\n",
       "        'DDR4', 'Windows', '64', 'Casual', 'No', '1'],\n",
       "       ['0.15510204081632648', '0.1327380952380953',\n",
       "        '0.039285714285714285', '0.025', '0.5666666666666667',\n",
       "        '0.1409604806408545', 'Lenovo', 'Intel', 'Core i5', '10th',\n",
       "        'DDR4', 'Windows', '64', 'ThinNlight', 'No', '0'],\n",
       "       ['0.07142857142857151', '0.08974358974358974',\n",
       "        '0.1987179487179487', '0.003205128205128205',\n",
       "        '0.603871292106586', '0.08117822909178048', 'DELL', 'Intel',\n",
       "        'Core i3', '11th', 'DDR4', 'Windows', '64', 'ThinNlight', 'Yes',\n",
       "        '1'],\n",
       "       ['0.05194805194805198', '0.019480519480519452',\n",
       "        '0.31493506493506496', '0.11363636363636363',\n",
       "        '0.651642475171886', '0.08893372982158028', 'ASUS', 'Intel',\n",
       "        'Core i3', '10th', 'DDR4', 'Windows', '32', 'Casual', 'No', '0'],\n",
       "       ['0.15844155844155847', '0.1621212121212121',\n",
       "        '0.045454545454545456', '0.03636363636363636',\n",
       "        '0.5376114081996438', '0.10815067969413779', 'HP', 'AMD',\n",
       "        'Ryzen 5', '11th', 'DDR4', 'Windows', '64', 'ThinNlight', 'Yes',\n",
       "        '1'],\n",
       "       ['0.1481481481481481', '0.11779835390946501',\n",
       "        '0.05555555555555555', '0.0030864197530864196',\n",
       "        '0.49310094408133603', '0.09128392177223955', 'DELL', 'Intel',\n",
       "        'Core i3', '11th', 'DDR4', 'Windows', '64', 'ThinNlight', 'No',\n",
       "        '0'],\n",
       "       ['0.07589285714285705', '0.18294270833333343', '0.0390625', '0.0',\n",
       "        '0.6620710784313711', '0.13441256571261678', 'ASUS', 'AMD',\n",
       "        'Ryzen 5', '11th', 'DDR4', 'Windows', '64', 'Casual', 'No', '1'],\n",
       "       ['0.15584415584415587', '0.22853535353535365',\n",
       "        '0.045454545454545456', '0.5871212121212122',\n",
       "        '0.6868686868686865', '0.20643316340979892', 'ASUS', 'AMD',\n",
       "        'Ryzen 7', '11th', 'DDR4', 'Windows', '64', 'Casual', 'No', '1'],\n",
       "       ['0.3068783068783072', '0.1944444444444443', '0.0', '0.0',\n",
       "        '0.33333333333333354', '0.3200069228106611', 'APPLE', 'M1', 'M1',\n",
       "        '10th', 'DDR4', 'Mac', '64', 'Casual', 'No', '1'],\n",
       "       ['0.12244897959183676', '0.03463203463203464',\n",
       "        '0.4707792207792208', '0.09415584415584416',\n",
       "        '0.6511331805449447', '0.08893491321762352', 'ASUS', 'Intel',\n",
       "        'Core i5', '11th', 'DDR4', 'Windows', '64', 'Casual', 'No', '1'],\n",
       "       ['0.3551587301587297', '0.22178819444444453',\n",
       "        '0.1111111111111111', '0.6388888888888888', '0.6898148148148143',\n",
       "        '0.33038661734164076', 'ASUS', 'Intel', 'Core i7', '10th',\n",
       "        'DDR4', 'Windows', '64', 'Casual', 'No', '0'],\n",
       "       ['0.19733656174334102', '0.17019774011299438', '0.0',\n",
       "        '0.08898305084745763', '0.5888999667663672',\n",
       "        '0.14421924996039917', 'Lenovo', 'Intel', 'Core i5', '11th',\n",
       "        'DDR4', 'Windows', '64', 'Casual', 'Yes', '1']], dtype='<U32')"
      ]
     },
     "execution_count": 17,
     "metadata": {},
     "output_type": "execute_result"
    }
   ],
   "source": [
    "kmodes.cluster_centroids_"
   ]
  },
  {
   "cell_type": "markdown",
   "id": "36ef645a",
   "metadata": {},
   "source": [
    "To help visualize and understand our clusters, we need to visualize them and their usefulness. This will allow us to understand which features are going to be the most useful for us in understanding pricing trends. The following code has been adapted from Anton Ruberts (https://antonsruberts.github.io/kproto-audience/) in order to assist in our assessment of the clusters.\n",
    "\n",
    "To do so the code uses UMAP in order to reduce our dimensionality and project not only our numerical data but also our categorical data onto a 2-D scatter plot to help us see how the clusters fit in space. "
   ]
  },
  {
   "cell_type": "code",
   "execution_count": 20,
   "id": "cdaa2f7c",
   "metadata": {},
   "outputs": [],
   "source": [
    "#First convert our categorical data into something that is usable by the UMAP algorithm\n",
    "#Then take the ratios of the categorical data to non-categorical data in order to use as weighting for our mapping later\n",
    "categorical = X.select_dtypes(include='object')\n",
    "categorical = pd.get_dummies(categorical)\n",
    "categorical_weight = len(X.select_dtypes(include='object').columns) / X.shape[1]\n",
    "\n",
    "numerical = X.select_dtypes(exclude='object')"
   ]
  },
  {
   "cell_type": "code",
   "execution_count": 21,
   "id": "a401686d",
   "metadata": {},
   "outputs": [],
   "source": [
    "#import umap so that we can begin fitting the numerical and categorical data\n",
    "#we make 2 maps, one for our numerical and one for our categorical as they are in different topologies\n",
    "#numerical can make use of l2 metrics whereas categorical uses the binary dice metric\n",
    "\n",
    "import umap\n",
    "\n",
    "fit1 = umap.UMAP(metric='l2').fit(numerical)\n",
    "fit2 = umap.UMAP(metric='dice').fit(categorical)"
   ]
  },
  {
   "cell_type": "code",
   "execution_count": 22,
   "id": "0d6bb646",
   "metadata": {},
   "outputs": [],
   "source": [
    "#We calculate the intersection of the numerical data to the categorical data\n",
    "#This allows us to combine the topologies together into a singular model\n",
    "\n",
    "intersection = umap.umap_.general_simplicial_set_intersection(fit1.graph_, fit2.graph_, weight=categorical_weight)\n",
    "intersection = umap.umap_.reset_local_connectivity(intersection)"
   ]
  },
  {
   "cell_type": "code",
   "execution_count": 27,
   "id": "49425da2",
   "metadata": {},
   "outputs": [],
   "source": [
    "#We now embed the umap data into a 2-dimensional array\n",
    "\n",
    "embedding = umap.umap_.simplicial_set_embedding(fit1._raw_data, intersection, fit1.n_components, \n",
    "                                                fit1._initial_alpha, fit1._a, fit1._b, \n",
    "                                                fit1.repulsion_strength, fit1.negative_sample_rate, \n",
    "                                                200, 'random', np.random, fit1.metric, \n",
    "                                                fit1._metric_kwds, densmap = False,  densmap_kwds = {}, output_dens = False)"
   ]
  },
  {
   "cell_type": "code",
   "execution_count": 29,
   "id": "8b6a6044",
   "metadata": {},
   "outputs": [
    {
     "data": {
      "image/png": "[encoded data removed]",
      "text/plain": [
       "<Figure size 1440x720 with 1 Axes>"
      ]
     },
     "metadata": {
      "needs_background": "light"
     },
     "output_type": "display_data"
    }
   ],
   "source": [
    "#Plotting the array\n",
    "\n",
    "fig, ax = plt.subplots()\n",
    "fig.set_size_inches((20, 10))\n",
    "scatter = ax.scatter(x = embedding[0][:,0], y = embedding[0][:,1],s=5, c = clusters, cmap='tab20b', alpha=1.0)\n",
    "\n",
    "# produce a legend with the unique colors from the scatter\n",
    "legend1 = ax.legend(*scatter.legend_elements(num=15),\n",
    "                    loc=\"lower left\", title=\"Classes\")\n",
    "ax.add_artist(legend1);"
   ]
  },
  {
   "cell_type": "code",
   "execution_count": 32,
   "id": "8d601281",
   "metadata": {},
   "outputs": [
    {
     "name": "stdout",
     "output_type": "stream",
     "text": [
      "CV F1 score for K-Prototypes clusters is 0.6813552495665652\n"
     ]
    }
   ],
   "source": [
    "#Here we are using LGBM in order to understand how useful our clusters are for classification\n",
    "#If the clusters are good then they will be good\n",
    "\n",
    "from lightgbm import LGBMClassifier\n",
    "from sklearn.model_selection import cross_val_score\n",
    "\n",
    "lgbm_data = X.copy()\n",
    "for c in lgbm_data.select_dtypes(include='object'):\n",
    "    lgbm_data[c] = lgbm_data[c].astype('category')\n",
    "\n",
    "clf_kp = LGBMClassifier(colsample_bytree=0.8)\n",
    "cv_scores_kp = cross_val_score(clf_kp, lgbm_data, clusters, scoring='f1_weighted')\n",
    "print(f'CV F1 score for K-Prototypes clusters is {np.mean(cv_scores_kp)}')"
   ]
  },
  {
   "cell_type": "code",
   "execution_count": 33,
   "id": "a955c3d6",
   "metadata": {},
   "outputs": [
    {
     "data": {
      "image/png": "[encoded data removed]",
      "text/plain": [
       "<Figure size 1080x720 with 1 Axes>"
      ]
     },
     "metadata": {
      "needs_background": "light"
     },
     "output_type": "display_data"
    }
   ],
   "source": [
    "#We now use SHAP in order to understand the usefulness of our clusters and features\n",
    "#We can understand how much impact each feature had on the classification of features and use our domain knowledge\n",
    "\n",
    "import shap\n",
    "\n",
    "clf_kp.fit(lgbm_data, clusters)\n",
    "explainer_kp = shap.TreeExplainer(clf_kp)\n",
    "shap_values_kp = explainer_kp.shap_values(lgbm_data)\n",
    "shap.summary_plot(shap_values_kp, lgbm_data, plot_type=\"bar\", plot_size=(15, 10))"
   ]
  },
  {
   "cell_type": "markdown",
   "id": "5bb0cca9",
   "metadata": {},
   "source": [
    "## K Modes Thoughts\n",
    "\n",
    "Although we were able to use K-Modes the inability to visualize or really understand the outputs of the clustering method makes it difficult to act upon. We're going to move on and try a different model.\n",
    "\n",
    "WE DID THE THING\n",
    "Analyze after"
   ]
  },
  {
   "cell_type": "markdown",
   "id": "a4a2c448",
   "metadata": {},
   "source": [
    "## Isomapping"
   ]
  },
  {
   "cell_type": "code",
   "execution_count": null,
   "id": "c9d2ed89",
   "metadata": {
    "scrolled": true
   },
   "outputs": [],
   "source": [
    "#Creating dummy variable\n",
    "laptop_cat = laptop_df.select_dtypes(include = 'object').columns\n",
    "laptop_cat = laptop_cat.insert(0, 'os_bit')\n",
    "laptop_cat\n",
    "\n",
    "laptop_dummies = pd.get_dummies(laptop_df, columns = laptop_cat, drop_first = True)\n",
    "\n",
    "df = laptop_dummies\n",
    "df.head()"
   ]
  },
  {
   "cell_type": "code",
   "execution_count": null,
   "id": "b2305e3d",
   "metadata": {},
   "outputs": [],
   "source": [
    "# Might be useful to have categories like for Decision Tree\n",
    "cuts = [150, 550, 950, 1350, 1750, 2150, 2550, 2950, 3350, 3750, 4150, 6000]\n",
    "labels = [\"$150-$550\", \"$550-$950\", \"$950-$1350\",\"$1350-1750\",\"$1750-$2150\", \"$2150-$2550\",\\\n",
    "          \"$2550-$2950\", \"$2950-$3350\", \"$3350-$3750\", \"$3750-$4150\", \"$4150 and up\"]\n",
    "\n",
    "df['price_cat'] = pd.cut(df['latest_price'], cuts, labels = labels)"
   ]
  },
  {
   "cell_type": "code",
   "execution_count": null,
   "id": "85257377",
   "metadata": {},
   "outputs": [],
   "source": [
    "#Create the dataset -> We are working with dimension reduction so no strict test/train set \n",
    "#Instead, we are looking at a way to explain our data.\n",
    "#X_train, X_test, y_train, y_test = train_test_split(X, y, test_size = 0.25, random_state = 1234)\n",
    "\n",
    "#for labels\n",
    "X = df.drop(['price_cat'], axis = 1)\n",
    "\n",
    "#Scale our X accordingly using MinMaxScaler\n",
    "X_to_scale = ['ram_gb', 'ssd_gb', 'hdd_gb', 'graphic_card_gb', 'display_size', 'latest_price']\n",
    "\n",
    "#Initialize the MinMax Scaler\n",
    "X_scaled = MinMaxScaler()\n",
    "\n",
    "#Fit the X data for our numerical columns\n",
    "X_scaled.fit(X[X_to_scale])\n",
    "\n",
    "#Transform the X data for both the X_train and X_test\n",
    "X_scaled = X_scaled.transform(X[X_to_scale])\n",
    "\n",
    "#Convert these back to dataframes so we can add them back in\n",
    "X_scaled = pd.DataFrame(X_scaled, index=X.index, columns = X_to_scale)\n",
    "#X_test_scaled = pd.DataFrame(X_test_scaled, index=X_test.index, columns = X_to_scale)\n",
    "\n",
    "#Add back in the columns\n",
    "#All the other columns\n",
    "X_other_columns = X.columns.drop(X_to_scale)\n",
    "\n",
    "#Join from scaled to not-scaled\n",
    "X = X_scaled.join(X[X_other_columns])\n",
    "\n",
    "#y = df[['latest_price']]"
   ]
  },
  {
   "cell_type": "code",
   "execution_count": null,
   "id": "8bc55c27",
   "metadata": {},
   "outputs": [],
   "source": [
    "y = df[['price_cat']]"
   ]
  },
  {
   "cell_type": "code",
   "execution_count": null,
   "id": "0ad02812",
   "metadata": {},
   "outputs": [],
   "source": [
    "from sklearn.manifold import Isomap\n",
    "\n",
    "\n",
    "model = Isomap(n_neighbors = 6, n_components = 2)\n",
    "model.fit(X)\n",
    "manifold_2Da = model.transform(X)\n",
    "manifold_2D = pd.DataFrame(manifold_2Da, columns = ['Component 1', 'Component 2'])\n",
    "\n",
    "manifold_2D.head()"
   ]
  },
  {
   "cell_type": "code",
   "execution_count": null,
   "id": "d8a50dbd",
   "metadata": {},
   "outputs": [],
   "source": [
    "%matplotlib inline\n",
    "fig = plt.figure()\n",
    "fig.set_size_inches(10, 10)\n",
    "ax = fig.add_subplot(111)\n",
    "ax.set_title('2D Components from Isomap')\n",
    "ax.set_xlabel('Component: 1')\n",
    "ax.set_ylabel('Component: 2')\n",
    "plt.scatter(x = manifold_2D['Component 1'], y = manifold_2D['Component 2'], marker='.', c = X['latest_price'], cmap = 'Set1')\n",
    "plt.show();\n"
   ]
  },
  {
   "cell_type": "code",
   "execution_count": null,
   "id": "02a9cfe6",
   "metadata": {},
   "outputs": [],
   "source": [
    "model = Isomap(n_neighbors = 6, n_components = 3)\n",
    "model.fit(X)\n",
    "manifold_3Da = model.transform(X)\n",
    "manifold_3D = pd.DataFrame(manifold_3Da, columns = ['Component 1', 'Component 2', 'Component 3'])\n",
    "\n",
    "manifold_3D.head()"
   ]
  },
  {
   "cell_type": "code",
   "execution_count": null,
   "id": "d30f8bea",
   "metadata": {},
   "outputs": [],
   "source": [
    "%matplotlib notebook\n",
    "\n",
    "ax = plt.axes(projection = '3d')\n",
    "\n",
    "zdata = manifold_3D['Component 1']\n",
    "xdata = manifold_3D['Component 2']\n",
    "ydata = manifold_3D['Component 3']\n",
    "ax.scatter3D(xdata, ydata, zdata, c = df['latest_price'], cmap = 'Set1')"
   ]
  },
  {
   "cell_type": "markdown",
   "id": "74cd65b7",
   "metadata": {},
   "source": [
    "## XGboost and Random Forest Time"
   ]
  },
  {
   "cell_type": "code",
   "execution_count": null,
   "id": "dcfe5371",
   "metadata": {},
   "outputs": [],
   "source": [
    "#We're going to make \"categories\" of prices because XGBoost likes to have labels\n",
    "#We will build these categories based on priced ranges, lets first look at the range of prices we have\n",
    "\n",
    "df['latest_price'].describe()\n",
    "\n",
    "#With a maximum price of $5745 and a minimum price of $181.87 we want to avoid too many groups\n",
    "#We will first try with  groups of 400, with the last group somewhat larger\n",
    "\n"
   ]
  },
  {
   "cell_type": "code",
   "execution_count": null,
   "id": "34481709",
   "metadata": {},
   "outputs": [],
   "source": [
    "df['latest_price'].sort_values(ascending = False).head()"
   ]
  },
  {
   "cell_type": "code",
   "execution_count": null,
   "id": "60e82549",
   "metadata": {},
   "outputs": [],
   "source": [
    "#creating our categories\n",
    "cuts = [150, 550, 950, 1350, 1750, 2150, 2550, 2950, 3350, 3750, 4150, 6000]\n",
    "labels = [\"$150-$550\", \"$550-$950\", \"$950-$1350\",\"$1350-1750\",\"$1750-$2150\", \"$2150-$2550\",\\\n",
    "          \"$2550-$2950\", \"$2950-$3350\", \"$3350-$3750\", \"$3750-$4150\", \"$4150 and up\"]\n",
    "\n",
    "df['price_cat'] = pd.cut(df['latest_price'], cuts, labels = labels)\n"
   ]
  },
  {
   "cell_type": "code",
   "execution_count": null,
   "id": "7c4b07bc",
   "metadata": {},
   "outputs": [],
   "source": [
    "from sklearn.preprocessing import OrdinalEncoder\n",
    "encoder = OrdinalEncoder()\n",
    "\n",
    "y = df[['price_cat']]\n",
    "\n",
    "y = encoder.fit_transform(y)"
   ]
  },
  {
   "cell_type": "code",
   "execution_count": null,
   "id": "ebf62050",
   "metadata": {},
   "outputs": [],
   "source": [
    "#Now that we have categories we can begin the XGBoost training\n",
    "import xgboost as xgb\n",
    "\n",
    "X = df.drop(['price_cat','latest_price'], axis = 1)\n",
    "#y = df[['price_cat']].astype('category')\n",
    "\n",
    "X_train, X_test, y_train, y_test = train_test_split(X,y, test_size = 0.3)"
   ]
  },
  {
   "cell_type": "code",
   "execution_count": null,
   "id": "622a98df",
   "metadata": {},
   "outputs": [],
   "source": [
    "xgbr = xgb.XGBClassifier()\n",
    "\n",
    "xgbr.fit(X_train, y_train)\n",
    "\n",
    "y_pred = xgbr.predict(X_test)"
   ]
  },
  {
   "cell_type": "code",
   "execution_count": null,
   "id": "f7a1cf0b",
   "metadata": {},
   "outputs": [],
   "source": [
    "print(metrics.classification_report(y_test, y_pred))"
   ]
  },
  {
   "cell_type": "code",
   "execution_count": null,
   "id": "49813d81",
   "metadata": {},
   "outputs": [],
   "source": [
    "#Try to improve using Bayesian Optimization\n",
    "from bayes_opt import BayesianOptimization\n",
    "from sklearn.metrics import mean_squared_error\n",
    "\n",
    "dtrain = xgb.DMatrix(X_train, y_train)\n",
    "\n",
    "def bo_tune_xgb(max_depth, gamma, n_estimators, learning_rate):\n",
    "        params = {'max_depth': int(max_depth),\n",
    "                 'gamma': gamma,\n",
    "                 'learning_rate': learning_rate,\n",
    "                 'subsample':0.8,\n",
    "                 'eta':0.1,\n",
    "                 }\n",
    "        cv_result = xgb.cv(params, dtrain, num_boost_round=70, nfold=5)\n",
    "        return -1.0 * cv_result['test-rmse-mean'].iloc[-1]"
   ]
  },
  {
   "cell_type": "code",
   "execution_count": null,
   "id": "5d1b2d98",
   "metadata": {},
   "outputs": [],
   "source": [
    "xgb_bo = BayesianOptimization(bo_tune_xgb, \n",
    "                             {'max_depth': (3,10),\n",
    "                             'gamma':(0,1),\n",
    "                             'n_estimators': (100,120),\n",
    "                             'learning_rate':(0,1)\n",
    "                             })\n"
   ]
  },
  {
   "cell_type": "code",
   "execution_count": null,
   "id": "9cfdc31b",
   "metadata": {},
   "outputs": [],
   "source": [
    "xgb_bo.maximize(n_iter = 5, init_points = 8, acq = 'ei')"
   ]
  },
  {
   "cell_type": "code",
   "execution_count": null,
   "id": "b533d6d9",
   "metadata": {},
   "outputs": [],
   "source": [
    "#Extracting the best parameters\n",
    "params = xgb_bo.max['params']\n",
    "print(params)\n",
    "\n",
    "#Converting the max_depth and n_estimator values from float to int\n",
    "params['max_depth']= int(params['max_depth'])\n",
    "params['n_estimators']= int(params['n_estimators'])"
   ]
  },
  {
   "cell_type": "code",
   "execution_count": null,
   "id": "cf11b44d",
   "metadata": {},
   "outputs": [],
   "source": [
    "#Initialize an XGBClassifier with the tuned parameters and fit the training data\n",
    "xgbr2 = xgb.XGBClassifier(**params)\n",
    "xgbr2.fit(X_train, y_train)\n",
    "\n",
    "#predicting for training set\n",
    "y_pred = xgbr2.predict(X_test)\n",
    "\n",
    "#Looking at the classification report\n",
    "print(metrics.classification_report(y_test,y_pred))"
   ]
  },
  {
   "cell_type": "code",
   "execution_count": null,
   "id": "5ac133f9",
   "metadata": {},
   "outputs": [],
   "source": [
    "%matplotlib inline\n",
    "ax = xgb.plot_importance(xgbr);\n",
    "fig = ax.figure\n",
    "fig.set_size_inches(10,10)"
   ]
  },
  {
   "cell_type": "code",
   "execution_count": null,
   "id": "93ca3a3e",
   "metadata": {},
   "outputs": [],
   "source": [
    "ax = xgb.plot_tree(xgbr, num_trees= xgbr.get_booster().best_iteration)\n",
    "fig = ax.figure\n",
    "fig.set_size_inches(20,20)"
   ]
  },
  {
   "cell_type": "code",
   "execution_count": null,
   "id": "dcd2f8a1",
   "metadata": {},
   "outputs": [],
   "source": [
    "xgb_df = xgbr.get_booster().trees_to_dataframe()\n",
    "xgb_df"
   ]
  },
  {
   "cell_type": "code",
   "execution_count": null,
   "id": "4c2c4546",
   "metadata": {},
   "outputs": [],
   "source": [
    "#n-1 tree will be best iteration\n",
    "xgb_best = xgb_df[xgb_df['Tree'] == 1098]\n",
    "xgb_best"
   ]
  }
 ],
 "metadata": {
  "kernelspec": {
   "display_name": "Python 3 (ipykernel)",
   "language": "python",
   "name": "python3"
  },
  "language_info": {
   "codemirror_mode": {
    "name": "ipython",
    "version": 3
   },
   "file_extension": ".py",
   "mimetype": "text/x-python",
   "name": "python",
   "nbconvert_exporter": "python",
   "pygments_lexer": "ipython3",
   "version": "3.9.7"
  }
 },
 "nbformat": 4,
 "nbformat_minor": 5
}
