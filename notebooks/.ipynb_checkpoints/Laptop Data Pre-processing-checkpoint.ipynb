{
 "cells": [
  {
   "cell_type": "markdown",
   "id": "2fce12fb",
   "metadata": {},
   "source": [
    "## Pre-processing Data\n",
    "\n",
    "In this notebook we will be looking at creating features for our machine learning model. \n",
    "\n",
    "We will be doing the following:\n",
    "1. Creating dummy variables for our categorical variables\n",
    "2. Making sure we have standard scale for our numerical data\n",
    "3. Creating our training and  test data.\n",
    "\n",
    "On top of that we may be tweaking some of the data that we have in order to make sure that the data is not getting in the way."
   ]
  },
  {
   "cell_type": "code",
   "execution_count": 1,
   "id": "808b785e",
   "metadata": {},
   "outputs": [],
   "source": [
    "import pandas as pd\n",
    "import matplotlib.pyplot as plt\n",
    "import os\n",
    "import numpy as np\n",
    "from sklearn.preprocessing import MinMaxScaler\n",
    "from sklearn.model_selection import train_test_split"
   ]
  },
  {
   "cell_type": "code",
   "execution_count": 2,
   "id": "333b8b5d",
   "metadata": {},
   "outputs": [],
   "source": [
    "# Loading our data!\n",
    "\n",
    "laptop_data = pd.read_csv('../dataset/tim_laptop_cleaned.csv', index_col = 0)"
   ]
  },
  {
   "cell_type": "code",
   "execution_count": 3,
   "id": "50d9085d",
   "metadata": {},
   "outputs": [
    {
     "name": "stdout",
     "output_type": "stream",
     "text": [
      "<class 'pandas.core.frame.DataFrame'>\n",
      "Int64Index: 896 entries, 0 to 895\n",
      "Data columns (total 17 columns):\n",
      " #   Column           Non-Null Count  Dtype  \n",
      "---  ------           --------------  -----  \n",
      " 0   brand            896 non-null    object \n",
      " 1   model            896 non-null    object \n",
      " 2   processor_brand  896 non-null    object \n",
      " 3   processor_name   896 non-null    object \n",
      " 4   processor_gnrtn  896 non-null    object \n",
      " 5   ram_gb           896 non-null    int64  \n",
      " 6   ram_type         896 non-null    object \n",
      " 7   ssd_gb           896 non-null    int64  \n",
      " 8   hdd_gb           896 non-null    int64  \n",
      " 9   os               896 non-null    object \n",
      " 10  os_bit           896 non-null    int64  \n",
      " 11  graphic_card_gb  896 non-null    int64  \n",
      " 12  weight           896 non-null    object \n",
      " 13  display_size     896 non-null    object \n",
      " 14  warranty         896 non-null    int64  \n",
      " 15  msoffice         896 non-null    object \n",
      " 16  latest_price     896 non-null    float64\n",
      "dtypes: float64(1), int64(6), object(10)\n",
      "memory usage: 126.0+ KB\n"
     ]
    }
   ],
   "source": [
    "# Checking our data tyes and the size of our dataframe\n",
    "laptop_data.info()"
   ]
  },
  {
   "cell_type": "code",
   "execution_count": 4,
   "id": "462df5d6",
   "metadata": {},
   "outputs": [
    {
     "data": {
      "text/html": [
       "<div>\n",
       "<style scoped>\n",
       "    .dataframe tbody tr th:only-of-type {\n",
       "        vertical-align: middle;\n",
       "    }\n",
       "\n",
       "    .dataframe tbody tr th {\n",
       "        vertical-align: top;\n",
       "    }\n",
       "\n",
       "    .dataframe thead th {\n",
       "        text-align: right;\n",
       "    }\n",
       "</style>\n",
       "<table border=\"1\" class=\"dataframe\">\n",
       "  <thead>\n",
       "    <tr style=\"text-align: right;\">\n",
       "      <th></th>\n",
       "      <th>0</th>\n",
       "    </tr>\n",
       "  </thead>\n",
       "  <tbody>\n",
       "    <tr>\n",
       "      <th>brand</th>\n",
       "      <td>0</td>\n",
       "    </tr>\n",
       "    <tr>\n",
       "      <th>model</th>\n",
       "      <td>95</td>\n",
       "    </tr>\n",
       "    <tr>\n",
       "      <th>processor_brand</th>\n",
       "      <td>0</td>\n",
       "    </tr>\n",
       "    <tr>\n",
       "      <th>processor_name</th>\n",
       "      <td>0</td>\n",
       "    </tr>\n",
       "    <tr>\n",
       "      <th>processor_gnrtn</th>\n",
       "      <td>239</td>\n",
       "    </tr>\n",
       "    <tr>\n",
       "      <th>ram_gb</th>\n",
       "      <td>0</td>\n",
       "    </tr>\n",
       "    <tr>\n",
       "      <th>ram_type</th>\n",
       "      <td>0</td>\n",
       "    </tr>\n",
       "    <tr>\n",
       "      <th>ssd_gb</th>\n",
       "      <td>0</td>\n",
       "    </tr>\n",
       "    <tr>\n",
       "      <th>hdd_gb</th>\n",
       "      <td>0</td>\n",
       "    </tr>\n",
       "    <tr>\n",
       "      <th>os</th>\n",
       "      <td>0</td>\n",
       "    </tr>\n",
       "    <tr>\n",
       "      <th>os_bit</th>\n",
       "      <td>0</td>\n",
       "    </tr>\n",
       "    <tr>\n",
       "      <th>graphic_card_gb</th>\n",
       "      <td>0</td>\n",
       "    </tr>\n",
       "    <tr>\n",
       "      <th>weight</th>\n",
       "      <td>0</td>\n",
       "    </tr>\n",
       "    <tr>\n",
       "      <th>display_size</th>\n",
       "      <td>332</td>\n",
       "    </tr>\n",
       "    <tr>\n",
       "      <th>warranty</th>\n",
       "      <td>0</td>\n",
       "    </tr>\n",
       "    <tr>\n",
       "      <th>msoffice</th>\n",
       "      <td>0</td>\n",
       "    </tr>\n",
       "    <tr>\n",
       "      <th>latest_price</th>\n",
       "      <td>0</td>\n",
       "    </tr>\n",
       "  </tbody>\n",
       "</table>\n",
       "</div>"
      ],
      "text/plain": [
       "                   0\n",
       "brand              0\n",
       "model             95\n",
       "processor_brand    0\n",
       "processor_name     0\n",
       "processor_gnrtn  239\n",
       "ram_gb             0\n",
       "ram_type           0\n",
       "ssd_gb             0\n",
       "hdd_gb             0\n",
       "os                 0\n",
       "os_bit             0\n",
       "graphic_card_gb    0\n",
       "weight             0\n",
       "display_size     332\n",
       "warranty           0\n",
       "msoffice           0\n",
       "latest_price       0"
      ]
     },
     "execution_count": 4,
     "metadata": {},
     "output_type": "execute_result"
    }
   ],
   "source": [
    "# Calculating the missing values because it is a string 'missing' and count it up\n",
    "\n",
    "laptop_columns = list(laptop_data.columns)\n",
    "missing = [sum(laptop_data[column] == 'Missing') for column in laptop_data]\n",
    "\n",
    "laptop_missing = pd.DataFrame(data = missing, index = laptop_columns)\n",
    "laptop_missing"
   ]
  },
  {
   "cell_type": "markdown",
   "id": "93dad8c0",
   "metadata": {},
   "source": [
    "Due to the amount of \"missing\" rows we have I am not comfortable with completely deleting the row. We may instead have to remove these features from our final data set. \n",
    "\n",
    "I will be dropping the columns `model` from my current data set as it ultimately is not a very useful measure with its wide categorical spread.\n",
    "\n",
    "I will impute the missing `display_size` first by rounding the display size to its nearest integer and then taking the mode. I feel safe taking the most common display size and imputing it across our data as we have such a narrow range (13-17) for our display sizes.\n",
    "\n",
    "Additionally, I will be doing the same for our processor generation as we have such few processor generations and it is quite an important data column for us. Remember that most of our numerical data is ordinal and discrete therefore doing things like the mean would not make sense."
   ]
  },
  {
   "cell_type": "code",
   "execution_count": 5,
   "id": "2952768d",
   "metadata": {},
   "outputs": [
    {
     "name": "stdout",
     "output_type": "stream",
     "text": [
      "<class 'pandas.core.frame.DataFrame'>\n",
      "Int64Index: 896 entries, 0 to 895\n",
      "Data columns (total 16 columns):\n",
      " #   Column           Non-Null Count  Dtype  \n",
      "---  ------           --------------  -----  \n",
      " 0   brand            896 non-null    object \n",
      " 1   processor_brand  896 non-null    object \n",
      " 2   processor_name   896 non-null    object \n",
      " 3   processor_gnrtn  896 non-null    object \n",
      " 4   ram_gb           896 non-null    int64  \n",
      " 5   ram_type         896 non-null    object \n",
      " 6   ssd_gb           896 non-null    int64  \n",
      " 7   hdd_gb           896 non-null    int64  \n",
      " 8   os               896 non-null    object \n",
      " 9   os_bit           896 non-null    int64  \n",
      " 10  graphic_card_gb  896 non-null    int64  \n",
      " 11  weight           896 non-null    object \n",
      " 12  display_size     896 non-null    object \n",
      " 13  warranty         896 non-null    int64  \n",
      " 14  msoffice         896 non-null    object \n",
      " 15  latest_price     896 non-null    float64\n",
      "dtypes: float64(1), int64(6), object(9)\n",
      "memory usage: 119.0+ KB\n"
     ]
    }
   ],
   "source": [
    "# Dropping the model column\n",
    "\n",
    "laptop_df = laptop_data.drop(['model'], axis = 1)\n",
    "laptop_df.info()"
   ]
  },
  {
   "cell_type": "code",
   "execution_count": 6,
   "id": "74ad2759",
   "metadata": {},
   "outputs": [
    {
     "data": {
      "text/plain": [
       "brand                0\n",
       "processor_brand      0\n",
       "processor_name       0\n",
       "processor_gnrtn    239\n",
       "ram_gb               0\n",
       "ram_type             0\n",
       "ssd_gb               0\n",
       "hdd_gb               0\n",
       "os                   0\n",
       "os_bit               0\n",
       "graphic_card_gb      0\n",
       "weight               0\n",
       "display_size       332\n",
       "warranty             0\n",
       "msoffice             0\n",
       "latest_price         0\n",
       "dtype: int64"
      ]
     },
     "execution_count": 6,
     "metadata": {},
     "output_type": "execute_result"
    }
   ],
   "source": [
    "# Replace the string 'Missing' with type NaN so we can properly replace the data\n",
    "\n",
    "laptop_df = laptop_df.replace('Missing', np.nan)\n",
    "laptop_df.isna().sum()"
   ]
  },
  {
   "cell_type": "code",
   "execution_count": 7,
   "id": "333f3e2c",
   "metadata": {},
   "outputs": [],
   "source": [
    "# Imputing `process_gnrtn` with the mode of the column\n",
    "laptop_df['processor_gnrtn'] = laptop_df['processor_gnrtn'].fillna(laptop_df['processor_gnrtn'].mode()[0])"
   ]
  },
  {
   "cell_type": "code",
   "execution_count": 8,
   "id": "8c35812b",
   "metadata": {},
   "outputs": [],
   "source": [
    "# Convert the `display_size` to numeric quantity then impute with the mode\n",
    "laptop_df['display_size'] = pd.to_numeric(laptop_df['display_size'])\n",
    "laptop_df['display_size'] = laptop_df['display_size'].fillna(laptop_df['display_size'].mode()[0])"
   ]
  },
  {
   "cell_type": "code",
   "execution_count": 9,
   "id": "398b1783",
   "metadata": {},
   "outputs": [
    {
     "data": {
      "text/plain": [
       "brand              0\n",
       "processor_brand    0\n",
       "processor_name     0\n",
       "processor_gnrtn    0\n",
       "ram_gb             0\n",
       "ram_type           0\n",
       "ssd_gb             0\n",
       "hdd_gb             0\n",
       "os                 0\n",
       "os_bit             0\n",
       "graphic_card_gb    0\n",
       "weight             0\n",
       "display_size       0\n",
       "warranty           0\n",
       "msoffice           0\n",
       "latest_price       0\n",
       "dtype: int64"
      ]
     },
     "execution_count": 9,
     "metadata": {},
     "output_type": "execute_result"
    }
   ],
   "source": [
    "# Check if there are any NaN values\n",
    "# if there are none we are good to go!\n",
    "laptop_df.isna().sum()"
   ]
  },
  {
   "cell_type": "markdown",
   "id": "5c00fdb4",
   "metadata": {},
   "source": [
    "## Creating dummy variables\n",
    "\n",
    "First we will create dummy variables for our categorical data. We will do so using pandas.get_dummies()\n",
    "We will first select the objects that are strings and include our `os_bit` data because although it is an integer, it is more of a category that a numerical value. \n",
    "\n",
    "We will also binarize our `warranty` data because we only care if it exists or not. "
   ]
  },
  {
   "cell_type": "code",
   "execution_count": 10,
   "id": "9f58c184",
   "metadata": {},
   "outputs": [
    {
     "data": {
      "text/plain": [
       "Index(['os_bit', 'brand', 'processor_brand', 'processor_name',\n",
       "       'processor_gnrtn', 'ram_type', 'os', 'weight', 'msoffice'],\n",
       "      dtype='object')"
      ]
     },
     "execution_count": 10,
     "metadata": {},
     "output_type": "execute_result"
    }
   ],
   "source": [
    "laptop_cat = laptop_df.select_dtypes(include = 'object').columns\n",
    "laptop_cat = laptop_cat.insert(0, 'os_bit')\n",
    "laptop_cat"
   ]
  },
  {
   "cell_type": "code",
   "execution_count": 11,
   "id": "fc950a10",
   "metadata": {},
   "outputs": [
    {
     "data": {
      "text/html": [
       "<div>\n",
       "<style scoped>\n",
       "    .dataframe tbody tr th:only-of-type {\n",
       "        vertical-align: middle;\n",
       "    }\n",
       "\n",
       "    .dataframe tbody tr th {\n",
       "        vertical-align: top;\n",
       "    }\n",
       "\n",
       "    .dataframe thead th {\n",
       "        text-align: right;\n",
       "    }\n",
       "</style>\n",
       "<table border=\"1\" class=\"dataframe\">\n",
       "  <thead>\n",
       "    <tr style=\"text-align: right;\">\n",
       "      <th></th>\n",
       "      <th>ram_gb</th>\n",
       "      <th>ssd_gb</th>\n",
       "      <th>hdd_gb</th>\n",
       "      <th>graphic_card_gb</th>\n",
       "      <th>display_size</th>\n",
       "      <th>warranty</th>\n",
       "      <th>latest_price</th>\n",
       "      <th>os_bit_64</th>\n",
       "      <th>brand_APPLE</th>\n",
       "      <th>brand_ASUS</th>\n",
       "      <th>...</th>\n",
       "      <th>ram_type_DDR4</th>\n",
       "      <th>ram_type_DDR5</th>\n",
       "      <th>ram_type_LPDDR3</th>\n",
       "      <th>ram_type_LPDDR4</th>\n",
       "      <th>ram_type_LPDDR4X</th>\n",
       "      <th>os_Mac</th>\n",
       "      <th>os_Windows</th>\n",
       "      <th>weight_Gaming</th>\n",
       "      <th>weight_ThinNlight</th>\n",
       "      <th>msoffice_Yes</th>\n",
       "    </tr>\n",
       "  </thead>\n",
       "  <tbody>\n",
       "    <tr>\n",
       "      <th>0</th>\n",
       "      <td>4</td>\n",
       "      <td>0</td>\n",
       "      <td>1024</td>\n",
       "      <td>0</td>\n",
       "      <td>15.6</td>\n",
       "      <td>0</td>\n",
       "      <td>324.87</td>\n",
       "      <td>1</td>\n",
       "      <td>0</td>\n",
       "      <td>0</td>\n",
       "      <td>...</td>\n",
       "      <td>1</td>\n",
       "      <td>0</td>\n",
       "      <td>0</td>\n",
       "      <td>0</td>\n",
       "      <td>0</td>\n",
       "      <td>0</td>\n",
       "      <td>1</td>\n",
       "      <td>0</td>\n",
       "      <td>1</td>\n",
       "      <td>0</td>\n",
       "    </tr>\n",
       "    <tr>\n",
       "      <th>1</th>\n",
       "      <td>4</td>\n",
       "      <td>0</td>\n",
       "      <td>512</td>\n",
       "      <td>0</td>\n",
       "      <td>15.6</td>\n",
       "      <td>0</td>\n",
       "      <td>254.67</td>\n",
       "      <td>1</td>\n",
       "      <td>0</td>\n",
       "      <td>0</td>\n",
       "      <td>...</td>\n",
       "      <td>1</td>\n",
       "      <td>0</td>\n",
       "      <td>0</td>\n",
       "      <td>0</td>\n",
       "      <td>0</td>\n",
       "      <td>0</td>\n",
       "      <td>1</td>\n",
       "      <td>0</td>\n",
       "      <td>0</td>\n",
       "      <td>0</td>\n",
       "    </tr>\n",
       "    <tr>\n",
       "      <th>2</th>\n",
       "      <td>4</td>\n",
       "      <td>128</td>\n",
       "      <td>0</td>\n",
       "      <td>0</td>\n",
       "      <td>15.6</td>\n",
       "      <td>0</td>\n",
       "      <td>259.87</td>\n",
       "      <td>1</td>\n",
       "      <td>0</td>\n",
       "      <td>0</td>\n",
       "      <td>...</td>\n",
       "      <td>1</td>\n",
       "      <td>0</td>\n",
       "      <td>0</td>\n",
       "      <td>0</td>\n",
       "      <td>0</td>\n",
       "      <td>0</td>\n",
       "      <td>1</td>\n",
       "      <td>0</td>\n",
       "      <td>1</td>\n",
       "      <td>0</td>\n",
       "    </tr>\n",
       "    <tr>\n",
       "      <th>3</th>\n",
       "      <td>4</td>\n",
       "      <td>128</td>\n",
       "      <td>0</td>\n",
       "      <td>0</td>\n",
       "      <td>15.6</td>\n",
       "      <td>0</td>\n",
       "      <td>279.37</td>\n",
       "      <td>1</td>\n",
       "      <td>0</td>\n",
       "      <td>0</td>\n",
       "      <td>...</td>\n",
       "      <td>1</td>\n",
       "      <td>0</td>\n",
       "      <td>0</td>\n",
       "      <td>0</td>\n",
       "      <td>0</td>\n",
       "      <td>0</td>\n",
       "      <td>1</td>\n",
       "      <td>0</td>\n",
       "      <td>1</td>\n",
       "      <td>0</td>\n",
       "    </tr>\n",
       "    <tr>\n",
       "      <th>4</th>\n",
       "      <td>4</td>\n",
       "      <td>256</td>\n",
       "      <td>0</td>\n",
       "      <td>0</td>\n",
       "      <td>15.6</td>\n",
       "      <td>0</td>\n",
       "      <td>324.87</td>\n",
       "      <td>1</td>\n",
       "      <td>0</td>\n",
       "      <td>0</td>\n",
       "      <td>...</td>\n",
       "      <td>1</td>\n",
       "      <td>0</td>\n",
       "      <td>0</td>\n",
       "      <td>0</td>\n",
       "      <td>0</td>\n",
       "      <td>0</td>\n",
       "      <td>1</td>\n",
       "      <td>0</td>\n",
       "      <td>1</td>\n",
       "      <td>0</td>\n",
       "    </tr>\n",
       "  </tbody>\n",
       "</table>\n",
       "<p>5 rows × 75 columns</p>\n",
       "</div>"
      ],
      "text/plain": [
       "   ram_gb  ssd_gb  hdd_gb  graphic_card_gb  display_size  warranty  \\\n",
       "0       4       0    1024                0          15.6         0   \n",
       "1       4       0     512                0          15.6         0   \n",
       "2       4     128       0                0          15.6         0   \n",
       "3       4     128       0                0          15.6         0   \n",
       "4       4     256       0                0          15.6         0   \n",
       "\n",
       "   latest_price  os_bit_64  brand_APPLE  brand_ASUS  ...  ram_type_DDR4  \\\n",
       "0        324.87          1            0           0  ...              1   \n",
       "1        254.67          1            0           0  ...              1   \n",
       "2        259.87          1            0           0  ...              1   \n",
       "3        279.37          1            0           0  ...              1   \n",
       "4        324.87          1            0           0  ...              1   \n",
       "\n",
       "   ram_type_DDR5  ram_type_LPDDR3  ram_type_LPDDR4  ram_type_LPDDR4X  os_Mac  \\\n",
       "0              0                0                0                 0       0   \n",
       "1              0                0                0                 0       0   \n",
       "2              0                0                0                 0       0   \n",
       "3              0                0                0                 0       0   \n",
       "4              0                0                0                 0       0   \n",
       "\n",
       "   os_Windows  weight_Gaming  weight_ThinNlight  msoffice_Yes  \n",
       "0           1              0                  1             0  \n",
       "1           1              0                  0             0  \n",
       "2           1              0                  1             0  \n",
       "3           1              0                  1             0  \n",
       "4           1              0                  1             0  \n",
       "\n",
       "[5 rows x 75 columns]"
      ]
     },
     "execution_count": 11,
     "metadata": {},
     "output_type": "execute_result"
    }
   ],
   "source": [
    "laptop_dummies = pd.get_dummies(laptop_df, columns = laptop_cat, drop_first = True)\n",
    "laptop_dummies.head()"
   ]
  },
  {
   "cell_type": "markdown",
   "id": "18409db2",
   "metadata": {},
   "source": [
    "## Binarize warranty\n",
    "\n",
    "Since we are simply interested in whether or not warranty exists, we will binarize this data. \n",
    "\n",
    "Then we will get into the discussion of how to treat our numerical data that is discrete but still somewhat categorical."
   ]
  },
  {
   "cell_type": "code",
   "execution_count": 12,
   "id": "37e5fa96",
   "metadata": {},
   "outputs": [],
   "source": [
    "df = laptop_dummies\n",
    "df['Binarize_Warranty'] = 0\n",
    "df.loc[df['warranty'] > 0, 'Binarize_Warranty'] = 1"
   ]
  },
  {
   "cell_type": "code",
   "execution_count": 13,
   "id": "987a9d4a",
   "metadata": {},
   "outputs": [],
   "source": [
    "df = df.drop('warranty', axis = 1)"
   ]
  },
  {
   "cell_type": "markdown",
   "id": "756e757d",
   "metadata": {},
   "source": [
    "## Scaling Data\n",
    "\n",
    "Since we are dealing with very sparse but discrete ratio data we will scale our data down using the MinMaxScaler from scikitlearn. This will place our data in a range of 0-1 and make sure everything is in the same range.\n",
    "\n",
    "We will first split the data into training and test splits before doing the fit and will transform both based on the training data with a 75/25 split of training/test data. It is better to do the fitting on only the training data so we don't get data leak and get over fit on the test set."
   ]
  },
  {
   "cell_type": "code",
   "execution_count": 14,
   "id": "0a3142be",
   "metadata": {},
   "outputs": [],
   "source": [
    "#X is all of the data that is not our target\n",
    "#Y is our target latest price\n",
    "\n",
    "X = df.drop('latest_price', axis = 1)\n",
    "y = df[['latest_price']]\n",
    "\n",
    "X_train, X_test, y_train, y_test = train_test_split(X, y, test_size = 0.25, random_state = 1234)"
   ]
  },
  {
   "cell_type": "code",
   "execution_count": 15,
   "id": "8ef039b0",
   "metadata": {},
   "outputs": [],
   "source": [
    "X_to_scale = ['ram_gb', 'ssd_gb', 'hdd_gb', 'graphic_card_gb']"
   ]
  },
  {
   "cell_type": "code",
   "execution_count": 16,
   "id": "e39594a2",
   "metadata": {},
   "outputs": [],
   "source": [
    "#Initialize the MinMax Scaler\n",
    "\n",
    "X_scaled = MinMaxScaler()\n",
    "\n",
    "#Fit the X data for our numerical columns\n",
    "X_scaled.fit(X_train[X_to_scale])\n",
    "\n",
    "#Transform the X data for both the X_train and X_test\n",
    "X_train_scaled = X_scaled.transform(X_train[X_to_scale])\n",
    "X_test_scaled = X_scaled.transform(X_test[X_to_scale])"
   ]
  },
  {
   "cell_type": "markdown",
   "id": "dfdc91bf",
   "metadata": {},
   "source": [
    "## Final Summary\n",
    "\n",
    "In these steps, we have done a bit more to prepare our data for analysis.\n",
    "\n",
    "We removed the data from `model` because it was missing and there was no good way to impute the data. We also imputed the mode of `processor_gnrtn` and `display_size` after rounding `display_size` to the nearest integer. We want to stay true to the nature of the data as much as possible. Utilizing mode for our data makes more sense as the variable are not continuous.\n",
    "\n",
    "\n",
    "After imputing the data, we create dummy variables for our categorical data utilizing the pd.get_dummies and making sure to drop first to make the data less redundant. We also binarized `warranty` because we are more interested in whether the warranty exists or not as opposed to the amount of the warranty.\n",
    "\n",
    "Finally, we split our data into train/test splits and then used MinMax Scaler in order to make sure all our numerical variables are within the same scale. This way we can be more confident in our analysis without large data having an over-sized impact on the data. \n",
    "\n",
    "We are pretty much ready to begin modeling and preparing testing different models on the data."
   ]
  },
  {
   "cell_type": "code",
   "execution_count": 17,
   "id": "6380b319",
   "metadata": {},
   "outputs": [
    {
     "name": "stdout",
     "output_type": "stream",
     "text": [
      "Stored 'df' (DataFrame)\n"
     ]
    }
   ],
   "source": [
    "# This is to allow us to use the variables in our next notebook for modeling\n",
    "from sklearn import datasets\n",
    "\n",
    "%store df"
   ]
  }
 ],
 "metadata": {
  "kernelspec": {
   "display_name": "Python 3 (ipykernel)",
   "language": "python",
   "name": "python3"
  },
  "language_info": {
   "codemirror_mode": {
    "name": "ipython",
    "version": 3
   },
   "file_extension": ".py",
   "mimetype": "text/x-python",
   "name": "python",
   "nbconvert_exporter": "python",
   "pygments_lexer": "ipython3",
   "version": "3.9.7"
  }
 },
 "nbformat": 4,
 "nbformat_minor": 5
}
